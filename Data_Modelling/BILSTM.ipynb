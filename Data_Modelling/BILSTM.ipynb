{
 "cells": [
  {
   "cell_type": "markdown",
   "metadata": {},
   "source": [
    "### 리뷰 파일 전처리"
   ]
  },
  {
   "cell_type": "code",
   "execution_count": 3,
   "metadata": {},
   "outputs": [],
   "source": [
    "import pandas as pd\n",
    "import numpy as np\n",
    "import urllib.request\n",
    "%matplotlib inline\n",
    "import matplotlib.pyplot as plt\n",
    "import re\n",
    "from konlpy.tag import Okt\n",
    "from tensorflow.keras.utils import to_categorical\n",
    "from tensorflow.keras.preprocessing.text import Tokenizer\n",
    "from tensorflow.keras.preprocessing.sequence import pad_sequences"
   ]
  },
  {
   "cell_type": "code",
   "execution_count": 4,
   "metadata": {},
   "outputs": [],
   "source": [
    "train_data = pd.read_table('ratings_train.txt')\n",
    "test_data = pd.read_table('ratings_test.txt')"
   ]
  },
  {
   "cell_type": "code",
   "execution_count": 5,
   "metadata": {},
   "outputs": [
    {
     "data": {
      "text/plain": [
       "(146182, 2)"
      ]
     },
     "execution_count": 5,
     "metadata": {},
     "output_type": "execute_result"
    }
   ],
   "source": [
    "train_data['document'].nunique(), train_data['label'].nunique()"
   ]
  },
  {
   "cell_type": "code",
   "execution_count": 6,
   "metadata": {},
   "outputs": [
    {
     "name": "stdout",
     "output_type": "stream",
     "text": [
      "False\n"
     ]
    }
   ],
   "source": [
    "train_data.drop_duplicates(subset=['document'], inplace=True) # 중복 제거\n",
    "train_data = train_data.dropna(how = 'any') # Null 값이 존재하는 행 제거\n",
    "print(train_data.isnull().values.any()) # Null 값이 존재하는지 확인"
   ]
  },
  {
   "cell_type": "code",
   "execution_count": 7,
   "metadata": {},
   "outputs": [
    {
     "data": {
      "text/html": [
       "<div>\n",
       "<style scoped>\n",
       "    .dataframe tbody tr th:only-of-type {\n",
       "        vertical-align: middle;\n",
       "    }\n",
       "\n",
       "    .dataframe tbody tr th {\n",
       "        vertical-align: top;\n",
       "    }\n",
       "\n",
       "    .dataframe thead th {\n",
       "        text-align: right;\n",
       "    }\n",
       "</style>\n",
       "<table border=\"1\" class=\"dataframe\">\n",
       "  <thead>\n",
       "    <tr style=\"text-align: right;\">\n",
       "      <th></th>\n",
       "      <th>id</th>\n",
       "      <th>document</th>\n",
       "      <th>label</th>\n",
       "    </tr>\n",
       "  </thead>\n",
       "  <tbody>\n",
       "    <tr>\n",
       "      <th>0</th>\n",
       "      <td>9976970</td>\n",
       "      <td>아 더빙 진짜 짜증나네요 목소리</td>\n",
       "      <td>0</td>\n",
       "    </tr>\n",
       "    <tr>\n",
       "      <th>1</th>\n",
       "      <td>3819312</td>\n",
       "      <td>흠포스터보고 초딩영화줄오버연기조차 가볍지 않구나</td>\n",
       "      <td>1</td>\n",
       "    </tr>\n",
       "    <tr>\n",
       "      <th>2</th>\n",
       "      <td>10265843</td>\n",
       "      <td>너무재밓었다그래서보는것을추천한다</td>\n",
       "      <td>0</td>\n",
       "    </tr>\n",
       "    <tr>\n",
       "      <th>3</th>\n",
       "      <td>9045019</td>\n",
       "      <td>교도소 이야기구먼 솔직히 재미는 없다평점 조정</td>\n",
       "      <td>0</td>\n",
       "    </tr>\n",
       "    <tr>\n",
       "      <th>4</th>\n",
       "      <td>6483659</td>\n",
       "      <td>사이몬페그의 익살스런 연기가 돋보였던 영화스파이더맨에서 늙어보이기만 했던 커스틴 던...</td>\n",
       "      <td>1</td>\n",
       "    </tr>\n",
       "  </tbody>\n",
       "</table>\n",
       "</div>"
      ],
      "text/plain": [
       "         id                                           document  label\n",
       "0   9976970                                  아 더빙 진짜 짜증나네요 목소리      0\n",
       "1   3819312                         흠포스터보고 초딩영화줄오버연기조차 가볍지 않구나      1\n",
       "2  10265843                                  너무재밓었다그래서보는것을추천한다      0\n",
       "3   9045019                          교도소 이야기구먼 솔직히 재미는 없다평점 조정      0\n",
       "4   6483659  사이몬페그의 익살스런 연기가 돋보였던 영화스파이더맨에서 늙어보이기만 했던 커스틴 던...      1"
      ]
     },
     "execution_count": 7,
     "metadata": {},
     "output_type": "execute_result"
    }
   ],
   "source": [
    "train_data['document'] = train_data['document'].str.replace(\"[^ㄱ-ㅎㅏ-ㅣ가-힣 ]\",\"\")  # 정규화\n",
    "train_data[:5]"
   ]
  },
  {
   "cell_type": "code",
   "execution_count": 8,
   "metadata": {},
   "outputs": [
    {
     "name": "stdout",
     "output_type": "stream",
     "text": [
      "id            0\n",
      "document    391\n",
      "label         0\n",
      "dtype: int64\n"
     ]
    }
   ],
   "source": [
    "train_data['document'].replace('', np.nan, inplace=True)\n",
    "print(train_data.isnull().sum())"
   ]
  },
  {
   "cell_type": "code",
   "execution_count": 9,
   "metadata": {},
   "outputs": [
    {
     "name": "stdout",
     "output_type": "stream",
     "text": [
      "145791\n"
     ]
    }
   ],
   "source": [
    "train_data = train_data.dropna(how = 'any')\n",
    "print(len(train_data))"
   ]
  },
  {
   "cell_type": "code",
   "execution_count": 10,
   "metadata": {},
   "outputs": [
    {
     "name": "stdout",
     "output_type": "stream",
     "text": [
      "전처리 후 테스트용 샘플의 개수 : 48995\n"
     ]
    }
   ],
   "source": [
    "test_data.drop_duplicates(subset = ['document'], inplace=True) # document 열에서 중복인 내용이 있다면 중복 제거\n",
    "test_data['document'] = test_data['document'].str.replace(\"[^ㄱ-ㅎㅏ-ㅣ가-힣 ]\",\"\") # 정규 표현식 수행\n",
    "test_data['document'].replace('', np.nan, inplace=True) # 공백은 Null 값으로 변경\n",
    "test_data = test_data.dropna(how='any') # Null 값 제거\n",
    "print('전처리 후 테스트용 샘플의 개수 :',len(test_data))"
   ]
  },
  {
   "cell_type": "code",
   "execution_count": 11,
   "metadata": {},
   "outputs": [],
   "source": [
    "stop_words = []  # 불용어\n",
    "\n",
    "with open('stopwords.txt', 'r', encoding = 'utf-8') as f:\n",
    "    lines = f.readlines()\n",
    "    for line in lines:\n",
    "        stop_words.append(line.rstrip('\\n'))"
   ]
  },
  {
   "cell_type": "code",
   "execution_count": 12,
   "metadata": {},
   "outputs": [],
   "source": [
    "okt = Okt()\n",
    "\n",
    "X_train = []\n",
    "for sentence in train_data['document']:\n",
    "    temp_X = []\n",
    "    temp_X = okt.morphs(sentence, stem=True) # 토큰화\n",
    "    temp_X = [word for word in temp_X if not word in stop_words] # 불용어 제거\n",
    "    X_train.append(temp_X)"
   ]
  },
  {
   "cell_type": "code",
   "execution_count": 13,
   "metadata": {},
   "outputs": [],
   "source": [
    "X_test = []\n",
    "for sentence in test_data['document']:\n",
    "    temp_X = []\n",
    "    temp_X = okt.morphs(sentence, stem=True) # 토큰화\n",
    "    temp_X = [word for word in temp_X if not word in stop_words] # 불용어 제거\n",
    "    X_test.append(temp_X)"
   ]
  },
  {
   "cell_type": "code",
   "execution_count": 14,
   "metadata": {},
   "outputs": [],
   "source": [
    "tokenizer = Tokenizer()\n",
    "tokenizer.fit_on_texts(X_train)"
   ]
  },
  {
   "cell_type": "code",
   "execution_count": 15,
   "metadata": {},
   "outputs": [],
   "source": [
    "# print(tokenizer.word_index)"
   ]
  },
  {
   "cell_type": "code",
   "execution_count": 16,
   "metadata": {},
   "outputs": [
    {
     "name": "stdout",
     "output_type": "stream",
     "text": [
      "단어 집합(vocabulary)의 크기 : 43493\n",
      "등장 빈도가 2번 이하인 희귀 단어의 수: 24308\n",
      "단어 집합에서 희귀 단어의 비율: 55.88945347527188\n",
      "전체 등장 빈도에서 희귀 단어 등장 빈도 비율: 2.1217145185031674\n"
     ]
    }
   ],
   "source": [
    "threshold = 3\n",
    "total_cnt = len(tokenizer.word_index) # 단어의 수\n",
    "rare_cnt = 0 # 등장 빈도수가 threshold보다 작은 단어의 개수를 카운트\n",
    "total_freq = 0 # 훈련 데이터의 전체 단어 빈도수 총 합\n",
    "rare_freq = 0 # 등장 빈도수가 threshold보다 작은 단어의 등장 빈도수의 총 합\n",
    "\n",
    "# 단어와 빈도수의 쌍(pair)을 key와 value로 받는다.\n",
    "for key, value in tokenizer.word_counts.items():\n",
    "    total_freq = total_freq + value\n",
    "\n",
    "    # 단어의 등장 빈도수가 threshold보다 작으면\n",
    "    if(value < threshold):\n",
    "        rare_cnt = rare_cnt + 1\n",
    "        rare_freq = rare_freq + value\n",
    "\n",
    "print('단어 집합(vocabulary)의 크기 :',total_cnt)\n",
    "print('등장 빈도가 %s번 이하인 희귀 단어의 수: %s'%(threshold - 1, rare_cnt))\n",
    "print(\"단어 집합에서 희귀 단어의 비율:\", (rare_cnt / total_cnt)*100)\n",
    "print(\"전체 등장 빈도에서 희귀 단어 등장 빈도 비율:\", (rare_freq / total_freq)*100)"
   ]
  },
  {
   "cell_type": "code",
   "execution_count": 17,
   "metadata": {},
   "outputs": [
    {
     "name": "stdout",
     "output_type": "stream",
     "text": [
      "단어 집합의 크기 : 19186\n"
     ]
    }
   ],
   "source": [
    "vocab_size = total_cnt - rare_cnt + 1 # 전체 단어 개수 중 빈도수 2이하인 단어 개수는 제거. 0번 패딩 토큰을 고려하여 +1\n",
    "print('단어 집합의 크기 :',vocab_size)"
   ]
  },
  {
   "cell_type": "code",
   "execution_count": 18,
   "metadata": {},
   "outputs": [],
   "source": [
    "tokenizer = Tokenizer(vocab_size) \n",
    "tokenizer.fit_on_texts(X_train)\n",
    "X_train = tokenizer.texts_to_sequences(X_train)\n",
    "X_test = tokenizer.texts_to_sequences(X_test)"
   ]
  },
  {
   "cell_type": "code",
   "execution_count": 19,
   "metadata": {},
   "outputs": [],
   "source": [
    "y_train = np.array(train_data['label'])\n",
    "y_test = np.array(test_data['label'])"
   ]
  },
  {
   "cell_type": "code",
   "execution_count": 20,
   "metadata": {},
   "outputs": [],
   "source": [
    "drop_train = [index for index, sentence in enumerate(X_train) if len(sentence) < 1]\n",
    "drop_test = [index for index, sentence in enumerate(X_test) if len(sentence) < 1]"
   ]
  },
  {
   "cell_type": "code",
   "execution_count": 21,
   "metadata": {},
   "outputs": [
    {
     "name": "stdout",
     "output_type": "stream",
     "text": [
      "144996\n",
      "144996\n"
     ]
    }
   ],
   "source": [
    "# train data 빈 샘플 제거\n",
    "X_train = np.delete(X_train, drop_train, axis=0)\n",
    "y_train = np.delete(y_train, drop_train, axis=0)\n",
    "print(len(X_train))\n",
    "print(len(y_train))"
   ]
  },
  {
   "cell_type": "code",
   "execution_count": 22,
   "metadata": {},
   "outputs": [
    {
     "name": "stdout",
     "output_type": "stream",
     "text": [
      "48682\n",
      "48682\n"
     ]
    }
   ],
   "source": [
    "# test data 빈 샘플 제거\n",
    "X_test = np.delete(X_test, drop_test, axis=0)\n",
    "y_test = np.delete(y_test, drop_test, axis=0)\n",
    "print(len(X_test))\n",
    "print(len(y_test))"
   ]
  },
  {
   "cell_type": "code",
   "execution_count": 23,
   "metadata": {},
   "outputs": [
    {
     "name": "stdout",
     "output_type": "stream",
     "text": [
      "리뷰의 최대 길이 : 68\n",
      "리뷰의 평균 길이 : 9.511345140555601\n"
     ]
    },
    {
     "data": {
      "image/png": "[encoded data removed]",
      "text/plain": [
       "<Figure size 432x288 with 1 Axes>"
      ]
     },
     "metadata": {
      "needs_background": "light"
     },
     "output_type": "display_data"
    }
   ],
   "source": [
    "print('리뷰의 최대 길이 :',max(len(l) for l in X_train))\n",
    "print('리뷰의 평균 길이 :',sum(map(len, X_train))/len(X_train))\n",
    "plt.hist([len(s) for s in X_train], bins=50)\n",
    "plt.xlabel('length of samples')\n",
    "plt.ylabel('number of samples')\n",
    "plt.show()"
   ]
  },
  {
   "cell_type": "code",
   "execution_count": 24,
   "metadata": {},
   "outputs": [],
   "source": [
    "def below_threshold_len(max_len, nested_list):\n",
    "  cnt = 0\n",
    "  for s in nested_list:\n",
    "    if(len(s) <= max_len):\n",
    "        cnt = cnt + 1\n",
    "  print('전체 샘플 중 길이가 %s 이하인 샘플의 비율: %s'%(max_len, (cnt / len(nested_list))*100))"
   ]
  },
  {
   "cell_type": "code",
   "execution_count": 25,
   "metadata": {},
   "outputs": [
    {
     "name": "stdout",
     "output_type": "stream",
     "text": [
      "전체 샘플 중 길이가 40 이하인 샘플의 비율: 99.70757814008662\n"
     ]
    }
   ],
   "source": [
    "max_len = 40\n",
    "below_threshold_len(max_len, X_train)"
   ]
  },
  {
   "cell_type": "code",
   "execution_count": 26,
   "metadata": {},
   "outputs": [],
   "source": [
    "X_train = pad_sequences(X_train, maxlen = max_len)\n",
    "X_test = pad_sequences(X_test, maxlen = max_len)"
   ]
  },
  {
   "cell_type": "code",
   "execution_count": 27,
   "metadata": {},
   "outputs": [],
   "source": [
    "y_train = to_categorical(y_train)\n",
    "y_test = to_categorical(y_test)"
   ]
  },
  {
   "cell_type": "code",
   "execution_count": 28,
   "metadata": {},
   "outputs": [
    {
     "name": "stdout",
     "output_type": "stream",
     "text": [
      "(144996, 40)\n",
      "(48682, 40)\n",
      "\n",
      "(144996, 2)\n",
      "(48682, 2)\n"
     ]
    }
   ],
   "source": [
    "print(X_train.shape)\n",
    "print(X_test.shape)\n",
    "\n",
    "print()\n",
    "\n",
    "print(y_train.shape)\n",
    "print(y_test.shape)"
   ]
  },
  {
   "cell_type": "markdown",
   "metadata": {},
   "source": [
    "## BILSTM 모델링"
   ]
  },
  {
   "cell_type": "code",
   "execution_count": 29,
   "metadata": {},
   "outputs": [],
   "source": [
    "from tensorflow.keras.layers import Dense, Embedding, Bidirectional, LSTM, Concatenate, BatchNormalization\n",
    "from tensorflow.keras.models import Sequential, load_model\n",
    "from tensorflow.keras import Input, Model, optimizers\n",
    "from tensorflow.keras.callbacks import EarlyStopping, ModelCheckpoint"
   ]
  },
  {
   "cell_type": "code",
   "execution_count": 30,
   "metadata": {},
   "outputs": [],
   "source": [
    "import tensorflow as tf\n",
    "\n",
    "class BahdanauAttention(tf.keras.Model):\n",
    "  def __init__(self, units):\n",
    "    super(BahdanauAttention, self).__init__()\n",
    "    self.W1 = Dense(units)\n",
    "    self.W2 = Dense(units)\n",
    "    self.V = Dense(1)\n",
    "\n",
    "  def call(self, values, query): # 단, key와 value는 같음\n",
    "    # hidden shape == (batch_size, hidden size)\n",
    "    # hidden_with_time_axis shape == (batch_size, 1, hidden size)\n",
    "    # we are doing this to perform addition to calculate the score\n",
    "    hidden_with_time_axis = tf.expand_dims(query, 1)\n",
    "\n",
    "    # score shape == (batch_size, max_length, 1)\n",
    "    # we get 1 at the last axis because we are applying score to self.V\n",
    "    # the shape of the tensor before applying self.V is (batch_size, max_length, units)\n",
    "    score = self.V(tf.nn.tanh(\n",
    "        self.W1(values) + self.W2(hidden_with_time_axis)))\n",
    "\n",
    "    # attention_weights shape == (batch_size, max_length, 1)\n",
    "    attention_weights = tf.nn.softmax(score, axis=1)\n",
    "\n",
    "    # context_vector shape after sum == (batch_size, hidden_size)\n",
    "    context_vector = attention_weights * values\n",
    "    context_vector = tf.reduce_sum(context_vector, axis=1)\n",
    "\n",
    "    return context_vector, attention_weights"
   ]
  },
  {
   "cell_type": "code",
   "execution_count": 31,
   "metadata": {},
   "outputs": [],
   "source": [
    "sequence_input = Input(shape=(max_len,), dtype='float32')\n",
    "embedded_sequences = Embedding(vocab_size, 128, input_length=max_len)(sequence_input)"
   ]
  },
  {
   "cell_type": "code",
   "execution_count": 32,
   "metadata": {},
   "outputs": [
    {
     "name": "stdout",
     "output_type": "stream",
     "text": [
      "WARNING:tensorflow:Layer lstm will not use cuDNN kernel since it doesn't meet the cuDNN kernel criteria. It will use generic GPU kernel as fallback when running on GPU\n",
      "WARNING:tensorflow:Layer lstm will not use cuDNN kernel since it doesn't meet the cuDNN kernel criteria. It will use generic GPU kernel as fallback when running on GPU\n",
      "WARNING:tensorflow:Layer lstm will not use cuDNN kernel since it doesn't meet the cuDNN kernel criteria. It will use generic GPU kernel as fallback when running on GPU\n"
     ]
    }
   ],
   "source": [
    "lstm, forward_h, forward_c, backward_h, backward_c = Bidirectional \\\n",
    "    (LSTM\n",
    "     (128,\n",
    "      dropout=0.3,\n",
    "      return_sequences=True,\n",
    "      return_state=True,\n",
    "      recurrent_activation='relu',\n",
    "      recurrent_initializer='glorot_uniform'))(embedded_sequences)"
   ]
  },
  {
   "cell_type": "code",
   "execution_count": 33,
   "metadata": {},
   "outputs": [
    {
     "name": "stdout",
     "output_type": "stream",
     "text": [
      "(None, 40, 256) (None, 128) (None, 128) (None, 128) (None, 128)\n"
     ]
    }
   ],
   "source": [
    "print(lstm.shape, forward_h.shape, forward_c.shape, backward_h.shape, backward_c.shape)"
   ]
  },
  {
   "cell_type": "code",
   "execution_count": 34,
   "metadata": {},
   "outputs": [],
   "source": [
    "state_h = Concatenate()([forward_h, backward_h]) # 은닉 상태\n",
    "state_c = Concatenate()([forward_c, backward_c]) # 셀 상태\n",
    "\n",
    "attention = BahdanauAttention(128) # 가중치 크기 정의\n",
    "context_vector, attention_weights = attention(lstm, state_h)\n",
    "hidden = BatchNormalization()(context_vector)\n",
    "\n",
    "output = Dense(2, activation='softmax')(hidden)\n",
    "model = Model(inputs=sequence_input, outputs=output)\n",
    "Adam = optimizers.Adam(lr=0.0001, clipnorm=1.)\n",
    "\n",
    "es = EarlyStopping(monitor='val_loss', mode='min', patience=5)\n",
    "mc = ModelCheckpoint('best_model.h5', monitor='val_accurary', mode='max', save_best_only=True)\n",
    "model.compile(optimizer=Adam, loss='categorical_crossentropy', metrics=['accuracy'])"
   ]
  },
  {
   "cell_type": "code",
   "execution_count": 35,
   "metadata": {},
   "outputs": [
    {
     "name": "stdout",
     "output_type": "stream",
     "text": [
      "Model: \"model\"\n",
      "__________________________________________________________________________________________________\n",
      "Layer (type)                    Output Shape         Param #     Connected to                     \n",
      "==================================================================================================\n",
      "input_1 (InputLayer)            [(None, 40)]         0                                            \n",
      "__________________________________________________________________________________________________\n",
      "embedding (Embedding)           (None, 40, 128)      2455808     input_1[0][0]                    \n",
      "__________________________________________________________________________________________________\n",
      "bidirectional (Bidirectional)   [(None, 40, 256), (N 263168      embedding[0][0]                  \n",
      "__________________________________________________________________________________________________\n",
      "concatenate (Concatenate)       (None, 256)          0           bidirectional[0][1]              \n",
      "                                                                 bidirectional[0][3]              \n",
      "__________________________________________________________________________________________________\n",
      "bahdanau_attention (BahdanauAtt ((None, 256), (None, 65921       bidirectional[0][0]              \n",
      "__________________________________________________________________________________________________\n",
      "batch_normalization (BatchNorma (None, 256)          1024        bahdanau_attention[0][0]         \n",
      "__________________________________________________________________________________________________\n",
      "dense_3 (Dense)                 (None, 2)            514         batch_normalization[0][0]        \n",
      "==================================================================================================\n",
      "Total params: 2,786,435\n",
      "Trainable params: 2,785,923\n",
      "Non-trainable params: 512\n",
      "__________________________________________________________________________________________________\n"
     ]
    }
   ],
   "source": [
    "model.summary()"
   ]
  },
  {
   "cell_type": "code",
   "execution_count": 36,
   "metadata": {},
   "outputs": [
    {
     "name": "stdout",
     "output_type": "stream",
     "text": [
      "Epoch 1/30\n",
      "2417/2417 [==============================] - ETA: 0s - loss: 0.4318 - accuracy: 0.7934WARNING:tensorflow:Can save best model only with val_accurary available, skipping.\n",
      "2417/2417 [==============================] - 332s 137ms/step - loss: 0.4318 - accuracy: 0.7934 - val_loss: 0.3651 - val_accuracy: 0.8386\n",
      "Epoch 2/30\n",
      "2417/2417 [==============================] - ETA: 0s - loss: 0.3458 - accuracy: 0.8492WARNING:tensorflow:Can save best model only with val_accurary available, skipping.\n",
      "2417/2417 [==============================] - 333s 138ms/step - loss: 0.3458 - accuracy: 0.8492 - val_loss: 0.3581 - val_accuracy: 0.8421\n",
      "Epoch 3/30\n",
      "2417/2417 [==============================] - ETA: 0s - loss: 0.3178 - accuracy: 0.8639WARNING:tensorflow:Can save best model only with val_accurary available, skipping.\n",
      "2417/2417 [==============================] - 334s 138ms/step - loss: 0.3178 - accuracy: 0.8639 - val_loss: 0.3540 - val_accuracy: 0.8453\n",
      "Epoch 4/30\n",
      "2417/2417 [==============================] - ETA: 0s - loss: 0.2976 - accuracy: 0.8738WARNING:tensorflow:Can save best model only with val_accurary available, skipping.\n",
      "2417/2417 [==============================] - 334s 138ms/step - loss: 0.2976 - accuracy: 0.8738 - val_loss: 0.3550 - val_accuracy: 0.8458\n",
      "Epoch 5/30\n",
      "2417/2417 [==============================] - ETA: 0s - loss: 0.2779 - accuracy: 0.8839WARNING:tensorflow:Can save best model only with val_accurary available, skipping.\n",
      "2417/2417 [==============================] - 332s 137ms/step - loss: 0.2779 - accuracy: 0.8839 - val_loss: 0.3674 - val_accuracy: 0.8470\n",
      "Epoch 6/30\n",
      "2417/2417 [==============================] - ETA: 0s - loss: 0.2588 - accuracy: 0.8925WARNING:tensorflow:Can save best model only with val_accurary available, skipping.\n",
      "2417/2417 [==============================] - 334s 138ms/step - loss: 0.2588 - accuracy: 0.8925 - val_loss: 0.3754 - val_accuracy: 0.8472\n",
      "Epoch 7/30\n",
      "2417/2417 [==============================] - ETA: 0s - loss: 0.2422 - accuracy: 0.9003WARNING:tensorflow:Can save best model only with val_accurary available, skipping.\n",
      "2417/2417 [==============================] - 325s 134ms/step - loss: 0.2422 - accuracy: 0.9003 - val_loss: 0.3790 - val_accuracy: 0.8462\n",
      "Epoch 8/30\n",
      "2417/2417 [==============================] - ETA: 0s - loss: 0.2258 - accuracy: 0.9082WARNING:tensorflow:Can save best model only with val_accurary available, skipping.\n",
      "2417/2417 [==============================] - 324s 134ms/step - loss: 0.2258 - accuracy: 0.9082 - val_loss: 0.3905 - val_accuracy: 0.8478\n"
     ]
    }
   ],
   "source": [
    "history = model.fit(X_train, y_train, epochs=30, batch_size=60, validation_data=(X_test, y_test),  callbacks = [es, mc], verbose=1)"
   ]
  },
  {
   "cell_type": "code",
   "execution_count": 37,
   "metadata": {},
   "outputs": [
    {
     "name": "stdout",
     "output_type": "stream",
     "text": [
      "1522/1522 [==============================] - 23s 15ms/step - loss: 0.3905 - accuracy: 0.8478\n",
      "\n",
      " 테스트 정확도: 0.8478\n"
     ]
    }
   ],
   "source": [
    "print(\"\\n 테스트 정확도: %.4f\" % (model.evaluate(X_test, y_test)[1]))"
   ]
  },
  {
   "cell_type": "code",
   "execution_count": 38,
   "metadata": {},
   "outputs": [
    {
     "data": {
      "image/png": "[encoded data removed]",
      "text/plain": [
       "<Figure size 432x288 with 1 Axes>"
      ]
     },
     "metadata": {
      "needs_background": "light"
     },
     "output_type": "display_data"
    },
    {
     "data": {
      "image/png": "[encoded data removed]",
      "text/plain": [
       "<Figure size 432x288 with 1 Axes>"
      ]
     },
     "metadata": {
      "needs_background": "light"
     },
     "output_type": "display_data"
    }
   ],
   "source": [
    "# 모델 시각화\n",
    "\n",
    "plt.plot(history.history['accuracy'])\n",
    "plt.plot(history.history['val_accuracy'])\n",
    "plt.title('Model accuracy')\n",
    "plt.ylabel('Accuracy')\n",
    "plt.xlabel('Epoch')\n",
    "plt.legend(['Train', 'Test'], loc='upper left')\n",
    "plt.show()\n",
    "\n",
    "# 학습 손실 값과 검증 손실 값을 플롯팅 합니다.\n",
    "plt.plot(history.history['loss'])\n",
    "plt.plot(history.history['val_loss'])\n",
    "plt.title('Model loss')\n",
    "plt.ylabel('Loss')\n",
    "plt.xlabel('Epoch')\n",
    "plt.legend(['Train', 'Test'], loc='upper left')\n",
    "plt.show()"
   ]
  },
  {
   "cell_type": "markdown",
   "metadata": {},
   "source": [
    "## 키워드 파일 불러와 전처리"
   ]
  },
  {
   "cell_type": "code",
   "execution_count": 840,
   "metadata": {},
   "outputs": [],
   "source": [
    "거리두기_1 = []\n",
    "거리두기_2 = []\n",
    "거리두기_3 = []\n",
    "거리두기_4 = []\n",
    "거리두기_5 = []\n",
    "정부_1 = []\n",
    "정부_2 = []\n",
    "정부_3 = []\n",
    "정부_4 = []\n",
    "정부_5 = []\n",
    "코로나_1 = []\n",
    "코로나_2 = []\n",
    "코로나_3 = []\n",
    "코로나_4 = []\n",
    "코로나_5 = []\n",
    "\n",
    "with open('url_query/url_사회적_거리두기_01.txt', 'r', encoding = 'utf-8') as f:\n",
    "    lines = f.readlines()\n",
    "    for line in lines:\n",
    "        거리두기_1.append(line.rstrip('\\n'))     \n",
    "        \n",
    "with open('url_query/url_사회적_거리두기_02.txt', 'r', encoding = 'utf-8') as f:\n",
    "    lines = f.readlines()\n",
    "    for line in lines:\n",
    "        거리두기_2.append(line.rstrip('\\n'))\n",
    "        \n",
    "with open('url_query/url_사회적_거리두기_03.txt', 'r', encoding = 'utf-8') as f:\n",
    "    lines = f.readlines()\n",
    "    for line in lines:\n",
    "        거리두기_3.append(line.rstrip('\\n'))\n",
    "        \n",
    "with open('url_query/url_사회적_거리두기_04.txt', 'r', encoding = 'utf-8') as f:\n",
    "    lines = f.readlines()\n",
    "    for line in lines:\n",
    "        거리두기_4.append(line.rstrip('\\n'))\n",
    "        \n",
    "with open('url_query/url_사회적_거리두기_05.txt', 'r', encoding = 'utf-8') as f:\n",
    "    lines = f.readlines()\n",
    "    for line in lines:\n",
    "        거리두기_5.append(line.rstrip('\\n'))\n",
    "        \n",
    "\n",
    "with open('url_query/url_정부_01.txt', 'r', encoding = 'utf-8') as f:\n",
    "    lines = f.readlines()\n",
    "    for line in lines:\n",
    "        정부_1.append(line.rstrip('\\n'))\n",
    "\n",
    "with open('url_query/url_정부_02.txt', 'r', encoding = 'utf-8') as f:\n",
    "    lines = f.readlines()\n",
    "    for line in lines:\n",
    "        정부_2.append(line.rstrip('\\n'))\n",
    "        \n",
    "with open('url_query/url_정부_03.txt', 'r', encoding = 'utf-8') as f:\n",
    "    lines = f.readlines()\n",
    "    for line in lines:\n",
    "        정부_3.append(line.rstrip('\\n'))\n",
    "        \n",
    "with open('url_query/url_정부_04.txt', 'r', encoding = 'utf-8') as f:\n",
    "    lines = f.readlines()\n",
    "    for line in lines:\n",
    "        정부_4.append(line.rstrip('\\n'))\n",
    "        \n",
    "with open('url_query/url_정부_05.txt', 'r', encoding = 'utf-8') as f:\n",
    "    lines = f.readlines()\n",
    "    for line in lines:\n",
    "        정부_5.append(line.rstrip('\\n'))\n",
    "        \n",
    "        \n",
    "with open('url_query/url_코로나_01.txt', 'r', encoding = 'utf-8') as f:\n",
    "    lines = f.readlines()\n",
    "    for line in lines:\n",
    "        코로나_1.append(line.rstrip('\\n'))\n",
    "        \n",
    "with open('url_query/url_코로나_02.txt', 'r', encoding = 'utf-8') as f:\n",
    "    lines = f.readlines()\n",
    "    for line in lines:\n",
    "        코로나_2.append(line.rstrip('\\n'))\n",
    "        \n",
    "with open('url_query/url_코로나_03.txt', 'r', encoding = 'utf-8') as f:\n",
    "    lines = f.readlines()\n",
    "    for line in lines:\n",
    "        코로나_3.append(line.rstrip('\\n'))\n",
    "        \n",
    "with open('url_query/url_코로나_04.txt', 'r', encoding = 'utf-8') as f:\n",
    "    lines = f.readlines()\n",
    "    for line in lines:\n",
    "        코로나_4.append(line.rstrip('\\n'))\n",
    "        \n",
    "with open('url_query/url_코로나_05.txt', 'r', encoding = 'utf-8') as f:\n",
    "    lines = f.readlines()\n",
    "    for line in lines:\n",
    "        코로나_5.append(line.rstrip('\\n'))"
   ]
  },
  {
   "cell_type": "code",
   "execution_count": 841,
   "metadata": {},
   "outputs": [],
   "source": [
    "거리두기_1 = pd.DataFrame(data=거리두기_1, columns=['거리두기_1'])\n",
    "거리두기_2 = pd.DataFrame(data=거리두기_2, columns=['거리두기_2'])\n",
    "거리두기_3 = pd.DataFrame(data=거리두기_3, columns=['거리두기_3'])\n",
    "거리두기_4 = pd.DataFrame(data=거리두기_4, columns=['거리두기_4'])\n",
    "거리두기_5 = pd.DataFrame(data=거리두기_5, columns=['거리두기_5'])\n",
    "\n",
    "정부_1 = pd.DataFrame(data=정부_1, columns=['정부_1'])\n",
    "정부_2 = pd.DataFrame(data=정부_2, columns=['정부_2'])\n",
    "정부_3 = pd.DataFrame(data=정부_3, columns=['정부_3'])\n",
    "정부_4 = pd.DataFrame(data=정부_4, columns=['정부_4'])\n",
    "정부_5 = pd.DataFrame(data=정부_5, columns=['정부_5'])\n",
    "\n",
    "코로나_1 = pd.DataFrame(data=코로나_1, columns=['코로나_1'])\n",
    "코로나_2 = pd.DataFrame(data=코로나_2, columns=['코로나_2'])\n",
    "코로나_3 = pd.DataFrame(data=코로나_3, columns=['코로나_3'])\n",
    "코로나_4 = pd.DataFrame(data=코로나_4, columns=['코로나_4'])\n",
    "코로나_5 = pd.DataFrame(data=코로나_5, columns=['코로나_5'])"
   ]
  },
  {
   "cell_type": "code",
   "execution_count": 942,
   "metadata": {},
   "outputs": [
    {
     "data": {
      "text/plain": [
       "거리두기_5    643\n",
       "dtype: int64"
      ]
     },
     "execution_count": 942,
     "metadata": {},
     "output_type": "execute_result"
    }
   ],
   "source": [
    "거리두기_5.nunique()"
   ]
  },
  {
   "cell_type": "code",
   "execution_count": 943,
   "metadata": {},
   "outputs": [],
   "source": [
    "거리두기_5['거리두기_5'] = 거리두기_5['거리두기_5'].str.replace(\"[^ㄱ-ㅎㅏ-ㅣ가-힣 ]\",\"\") # 정규 표현식 수행\n",
    "거리두기_5['거리두기_5'].replace('', np.nan, inplace=True) # 공백은 Null 값으로 변경\n",
    "거리두기_5=거리두기_5.dropna(how='any') # Null 값 제거"
   ]
  },
  {
   "cell_type": "code",
   "execution_count": 944,
   "metadata": {},
   "outputs": [],
   "source": [
    "# okt, 불용어 처리\n",
    "\n",
    "X_train = []\n",
    "\n",
    "for sentence in 거리두기_5['거리두기_5']:\n",
    "    temp_X = []\n",
    "    temp_X = okt.morphs(sentence, stem=True) # 토큰화\n",
    "    temp_X = [word for word in temp_X if not word in stop_words] # 불용어 제거\n",
    "    X_train.append(temp_X)"
   ]
  },
  {
   "cell_type": "code",
   "execution_count": 945,
   "metadata": {},
   "outputs": [],
   "source": [
    "tokenizer = Tokenizer()\n",
    "tokenizer.fit_on_texts(X_train)"
   ]
  },
  {
   "cell_type": "code",
   "execution_count": 946,
   "metadata": {},
   "outputs": [
    {
     "name": "stdout",
     "output_type": "stream",
     "text": [
      "단어 집합(vocabulary)의 크기 : 3410\n",
      "등장 빈도가 2번 이하인 희귀 단어의 수: 2452\n",
      "단어 집합에서 희귀 단어의 비율: 71.90615835777126\n",
      "전체 등장 빈도에서 희귀 단어 등장 빈도 비율: 24.570264765784113\n"
     ]
    }
   ],
   "source": [
    "threshold = 3\n",
    "total_cnt = len(tokenizer.word_index) # 단어의 수\n",
    "rare_cnt = 0 # 등장 빈도수가 threshold보다 작은 단어의 개수를 카운트\n",
    "total_freq = 0 # 훈련 데이터의 전체 단어 빈도수 총 합\n",
    "rare_freq = 0 # 등장 빈도수가 threshold보다 작은 단어의 등장 빈도수의 총 합\n",
    "\n",
    "# 단어와 빈도수의 쌍(pair)을 key와 value로 받는다.\n",
    "for key, value in tokenizer.word_counts.items():\n",
    "    total_freq = total_freq + value\n",
    "\n",
    "    # 단어의 등장 빈도수가 threshold보다 작으면\n",
    "    if(value < threshold):\n",
    "        rare_cnt = rare_cnt + 1\n",
    "        rare_freq = rare_freq + value\n",
    "\n",
    "print('단어 집합(vocabulary)의 크기 :',total_cnt)\n",
    "print('등장 빈도가 %s번 이하인 희귀 단어의 수: %s'%(threshold - 1, rare_cnt))\n",
    "print(\"단어 집합에서 희귀 단어의 비율:\", (rare_cnt / total_cnt)*100)\n",
    "print(\"전체 등장 빈도에서 희귀 단어 등장 빈도 비율:\", (rare_freq / total_freq)*100)"
   ]
  },
  {
   "cell_type": "code",
   "execution_count": 947,
   "metadata": {},
   "outputs": [
    {
     "name": "stdout",
     "output_type": "stream",
     "text": [
      "단어 집합의 크기 : 959\n"
     ]
    }
   ],
   "source": [
    "vocab_size = total_cnt - rare_cnt + 1 # 전체 단어 개수 중 빈도수 2이하인 단어 개수는 제거. 0번 패딩 토큰을 고려하여 +1\n",
    "print('단어 집합의 크기 :',vocab_size)"
   ]
  },
  {
   "cell_type": "code",
   "execution_count": 948,
   "metadata": {},
   "outputs": [],
   "source": [
    "tokenizer = Tokenizer(vocab_size) \n",
    "tokenizer.fit_on_texts(X_train)\n",
    "X_train = tokenizer.texts_to_sequences(X_train)"
   ]
  },
  {
   "cell_type": "code",
   "execution_count": 949,
   "metadata": {},
   "outputs": [
    {
     "data": {
      "text/plain": [
       "642"
      ]
     },
     "execution_count": 949,
     "metadata": {},
     "output_type": "execute_result"
    }
   ],
   "source": [
    "len(X_train)"
   ]
  },
  {
   "cell_type": "code",
   "execution_count": 950,
   "metadata": {},
   "outputs": [],
   "source": [
    "X_train = pad_sequences(X_train, maxlen = max_len)"
   ]
  },
  {
   "cell_type": "code",
   "execution_count": 951,
   "metadata": {},
   "outputs": [
    {
     "data": {
      "text/plain": [
       "(642, 40)"
      ]
     },
     "execution_count": 951,
     "metadata": {},
     "output_type": "execute_result"
    }
   ],
   "source": [
    "X_train.shape"
   ]
  },
  {
   "cell_type": "markdown",
   "metadata": {},
   "source": [
    "## 위에서 만든 모델로 예측하고 결과 합치기"
   ]
  },
  {
   "cell_type": "code",
   "execution_count": 952,
   "metadata": {},
   "outputs": [],
   "source": [
    "result = model.predict(X_train)"
   ]
  },
  {
   "cell_type": "code",
   "execution_count": 953,
   "metadata": {},
   "outputs": [
    {
     "data": {
      "text/plain": [
       "array([[0.35043126, 0.6495688 ],\n",
       "       [0.07730507, 0.9226949 ],\n",
       "       [0.09771327, 0.9022867 ],\n",
       "       [0.5542853 , 0.44571474],\n",
       "       [0.46863377, 0.5313663 ]], dtype=float32)"
      ]
     },
     "execution_count": 953,
     "metadata": {},
     "output_type": "execute_result"
    }
   ],
   "source": [
    "result[:5]"
   ]
  },
  {
   "cell_type": "code",
   "execution_count": 954,
   "metadata": {},
   "outputs": [],
   "source": [
    "distance_5 = pd.DataFrame(data = result, columns = ['0', '1'])"
   ]
  },
  {
   "cell_type": "code",
   "execution_count": 955,
   "metadata": {},
   "outputs": [],
   "source": [
    "distance_5['예측값'] = distance_5.idxmax(axis=1)"
   ]
  },
  {
   "cell_type": "code",
   "execution_count": 956,
   "metadata": {},
   "outputs": [
    {
     "name": "stdout",
     "output_type": "stream",
     "text": [
      "(642, 3)\n",
      "(642, 1)\n"
     ]
    }
   ],
   "source": [
    "print(distance_5.shape)\n",
    "print(거리두기_5.shape)"
   ]
  },
  {
   "cell_type": "code",
   "execution_count": 958,
   "metadata": {},
   "outputs": [],
   "source": [
    "거리두기_5월 = pd.concat([거리두기_5, distance_5['예측값']], axis = 1)"
   ]
  },
  {
   "cell_type": "code",
   "execution_count": 959,
   "metadata": {},
   "outputs": [
    {
     "data": {
      "text/plain": [
       "거리두기_5    1\n",
       "예측값       1\n",
       "dtype: int64"
      ]
     },
     "execution_count": 959,
     "metadata": {},
     "output_type": "execute_result"
    }
   ],
   "source": [
    "거리두기_5월.isnull().sum()"
   ]
  },
  {
   "cell_type": "code",
   "execution_count": 960,
   "metadata": {},
   "outputs": [],
   "source": [
    "거리두기_5월 = 거리두기_5월.dropna(how='any')"
   ]
  },
  {
   "cell_type": "markdown",
   "metadata": {},
   "source": [
    "## 사회적 거리두기 데이터 결과"
   ]
  },
  {
   "cell_type": "code",
   "execution_count": 895,
   "metadata": {},
   "outputs": [
    {
     "data": {
      "text/html": [
       "<div>\n",
       "<style scoped>\n",
       "    .dataframe tbody tr th:only-of-type {\n",
       "        vertical-align: middle;\n",
       "    }\n",
       "\n",
       "    .dataframe tbody tr th {\n",
       "        vertical-align: top;\n",
       "    }\n",
       "\n",
       "    .dataframe thead th {\n",
       "        text-align: right;\n",
       "    }\n",
       "</style>\n",
       "<table border=\"1\" class=\"dataframe\">\n",
       "  <thead>\n",
       "    <tr style=\"text-align: right;\">\n",
       "      <th></th>\n",
       "      <th>거리두기_1</th>\n",
       "      <th>예측값</th>\n",
       "    </tr>\n",
       "  </thead>\n",
       "  <tbody>\n",
       "    <tr>\n",
       "      <th>0</th>\n",
       "      <td>그래서  이 시대의 키 워드는 정의인가보다  각 분야의 정의로운 전문가들이 소신있는...</td>\n",
       "      <td>1</td>\n",
       "    </tr>\n",
       "    <tr>\n",
       "      <th>1</th>\n",
       "      <td>정의가 나와 생각을 달리하는 자를 공격하기 위한 수단으로 오염되면서자기 자신의 정의...</td>\n",
       "      <td>1</td>\n",
       "    </tr>\n",
       "    <tr>\n",
       "      <th>3</th>\n",
       "      <td>ㅋㅋㅋ자한당에서도 내부고발 부탁해</td>\n",
       "      <td>0</td>\n",
       "    </tr>\n",
       "    <tr>\n",
       "      <th>4</th>\n",
       "      <td>안전한 원전두고무슨 똥 고집인지이것도 탄핵의 한 이유가될것이다</td>\n",
       "      <td>1</td>\n",
       "    </tr>\n",
       "  </tbody>\n",
       "</table>\n",
       "</div>"
      ],
      "text/plain": [
       "                                              거리두기_1 예측값\n",
       "0  그래서  이 시대의 키 워드는 정의인가보다  각 분야의 정의로운 전문가들이 소신있는...   1\n",
       "1  정의가 나와 생각을 달리하는 자를 공격하기 위한 수단으로 오염되면서자기 자신의 정의...   1\n",
       "3                                 ㅋㅋㅋ자한당에서도 내부고발 부탁해   0\n",
       "4                 안전한 원전두고무슨 똥 고집인지이것도 탄핵의 한 이유가될것이다   1"
      ]
     },
     "execution_count": 895,
     "metadata": {},
     "output_type": "execute_result"
    }
   ],
   "source": [
    "거리두기_1월"
   ]
  },
  {
   "cell_type": "code",
   "execution_count": 911,
   "metadata": {},
   "outputs": [
    {
     "data": {
      "text/html": [
       "<div>\n",
       "<style scoped>\n",
       "    .dataframe tbody tr th:only-of-type {\n",
       "        vertical-align: middle;\n",
       "    }\n",
       "\n",
       "    .dataframe tbody tr th {\n",
       "        vertical-align: top;\n",
       "    }\n",
       "\n",
       "    .dataframe thead th {\n",
       "        text-align: right;\n",
       "    }\n",
       "</style>\n",
       "<table border=\"1\" class=\"dataframe\">\n",
       "  <thead>\n",
       "    <tr style=\"text-align: right;\">\n",
       "      <th></th>\n",
       "      <th>거리두기_2</th>\n",
       "      <th>예측값</th>\n",
       "    </tr>\n",
       "  </thead>\n",
       "  <tbody>\n",
       "    <tr>\n",
       "      <th>0</th>\n",
       "      <td>호남빼곤 이번총선 민주당쉽지 않을듯 이상황에도 낙관하면 진짜 뇌가없다고 봐야지</td>\n",
       "      <td>0</td>\n",
       "    </tr>\n",
       "    <tr>\n",
       "      <th>1</th>\n",
       "      <td>ㅎㅎㅎ 이 아저씨는 잘 모른다 초기에 ㅇㅔ 나와서 공기 감염이 불가능하다고 얘기하고...</td>\n",
       "      <td>0</td>\n",
       "    </tr>\n",
       "    <tr>\n",
       "      <th>3</th>\n",
       "      <td>메르스보다 잘막았다는 개소리는 더 이상 하지마라 중국 하수인 문재앙씨</td>\n",
       "      <td>0</td>\n",
       "    </tr>\n",
       "    <tr>\n",
       "      <th>4</th>\n",
       "      <td>그게 무슨상관이니</td>\n",
       "      <td>0</td>\n",
       "    </tr>\n",
       "    <tr>\n",
       "      <th>5</th>\n",
       "      <td>사이비 종교집단이 나라 말아먹은 사례로 역사에 길이 길이 남겠네 숨어 다니는 이 악...</td>\n",
       "      <td>0</td>\n",
       "    </tr>\n",
       "    <tr>\n",
       "      <th>...</th>\n",
       "      <td>...</td>\n",
       "      <td>...</td>\n",
       "    </tr>\n",
       "    <tr>\n",
       "      <th>62</th>\n",
       "      <td>이정도면ㅋㅋ놀면서 늦장부린 박근혜보다 초기때부터 오바싼 문정권이 더 못한거네ㅋㅋㅋ다...</td>\n",
       "      <td>0</td>\n",
       "    </tr>\n",
       "    <tr>\n",
       "      <th>63</th>\n",
       "      <td>저사람들중 코로나 걸려도 아마 숨길것같다 시위나갔다가 코로나걸린거알면 난리나니까</td>\n",
       "      <td>0</td>\n",
       "    </tr>\n",
       "    <tr>\n",
       "      <th>64</th>\n",
       "      <td>압수숙색할 공권력은 있는데 입국 금지는 안하냐</td>\n",
       "      <td>0</td>\n",
       "    </tr>\n",
       "    <tr>\n",
       "      <th>65</th>\n",
       "      <td>웃기고 있네 온오프라인 통들어 숙대생들이 얼마나 반대했는데 이걸 언론탓으로 몰아가네...</td>\n",
       "      <td>1</td>\n",
       "    </tr>\n",
       "    <tr>\n",
       "      <th>66</th>\n",
       "      <td>전 이렇게 말하는 의사를 보면예전 조선시대 일본에 건너갔다가 온 사신이 생각나네요 ...</td>\n",
       "      <td>0</td>\n",
       "    </tr>\n",
       "  </tbody>\n",
       "</table>\n",
       "<p>66 rows × 2 columns</p>\n",
       "</div>"
      ],
      "text/plain": [
       "                                               거리두기_2 예측값\n",
       "0         호남빼곤 이번총선 민주당쉽지 않을듯 이상황에도 낙관하면 진짜 뇌가없다고 봐야지   0\n",
       "1   ㅎㅎㅎ 이 아저씨는 잘 모른다 초기에 ㅇㅔ 나와서 공기 감염이 불가능하다고 얘기하고...   0\n",
       "3              메르스보다 잘막았다는 개소리는 더 이상 하지마라 중국 하수인 문재앙씨   0\n",
       "4                                           그게 무슨상관이니   0\n",
       "5   사이비 종교집단이 나라 말아먹은 사례로 역사에 길이 길이 남겠네 숨어 다니는 이 악...   0\n",
       "..                                                ...  ..\n",
       "62  이정도면ㅋㅋ놀면서 늦장부린 박근혜보다 초기때부터 오바싼 문정권이 더 못한거네ㅋㅋㅋ다...   0\n",
       "63       저사람들중 코로나 걸려도 아마 숨길것같다 시위나갔다가 코로나걸린거알면 난리나니까   0\n",
       "64                          압수숙색할 공권력은 있는데 입국 금지는 안하냐   0\n",
       "65  웃기고 있네 온오프라인 통들어 숙대생들이 얼마나 반대했는데 이걸 언론탓으로 몰아가네...   1\n",
       "66  전 이렇게 말하는 의사를 보면예전 조선시대 일본에 건너갔다가 온 사신이 생각나네요 ...   0\n",
       "\n",
       "[66 rows x 2 columns]"
      ]
     },
     "execution_count": 911,
     "metadata": {},
     "output_type": "execute_result"
    }
   ],
   "source": [
    "거리두기_2월"
   ]
  },
  {
   "cell_type": "code",
   "execution_count": 926,
   "metadata": {},
   "outputs": [
    {
     "data": {
      "text/html": [
       "<div>\n",
       "<style scoped>\n",
       "    .dataframe tbody tr th:only-of-type {\n",
       "        vertical-align: middle;\n",
       "    }\n",
       "\n",
       "    .dataframe tbody tr th {\n",
       "        vertical-align: top;\n",
       "    }\n",
       "\n",
       "    .dataframe thead th {\n",
       "        text-align: right;\n",
       "    }\n",
       "</style>\n",
       "<table border=\"1\" class=\"dataframe\">\n",
       "  <thead>\n",
       "    <tr style=\"text-align: right;\">\n",
       "      <th></th>\n",
       "      <th>거리두기_3</th>\n",
       "      <th>예측값</th>\n",
       "    </tr>\n",
       "  </thead>\n",
       "  <tbody>\n",
       "    <tr>\n",
       "      <th>0</th>\n",
       "      <td>개학 연기하는동안 아무런 대책도 하지 않은건지 애들만 덩그러니 집에서 온라인수업을 ...</td>\n",
       "      <td>0</td>\n",
       "    </tr>\n",
       "    <tr>\n",
       "      <th>2</th>\n",
       "      <td>초중고 개학 전까진 대학도 문 열면 안 되지  그럼 지금까지 고생한 거 싹 다 물거...</td>\n",
       "      <td>0</td>\n",
       "    </tr>\n",
       "    <tr>\n",
       "      <th>3</th>\n",
       "      <td>이렇게 전파력센데 좀 입국이라도 좀 빨리막고 격리좀시키지 진짜답없다</td>\n",
       "      <td>0</td>\n",
       "    </tr>\n",
       "    <tr>\n",
       "      <th>4</th>\n",
       "      <td>회사가 미국 갔다온거 아는데 강제로 출근 시켰니</td>\n",
       "      <td>1</td>\n",
       "    </tr>\n",
       "    <tr>\n",
       "      <th>5</th>\n",
       "      <td>중국 우한 폐렴이 사람들을 꼼짝 못하게 하네요중국의 저주라고 해야 할지아이러니하게 ...</td>\n",
       "      <td>1</td>\n",
       "    </tr>\n",
       "    <tr>\n",
       "      <th>...</th>\n",
       "      <td>...</td>\n",
       "      <td>...</td>\n",
       "    </tr>\n",
       "    <tr>\n",
       "      <th>399</th>\n",
       "      <td>우이교 벚꽃은 통제 안하니 보실분 보러가세요어제 사람 많더라고요</td>\n",
       "      <td>0</td>\n",
       "    </tr>\n",
       "    <tr>\n",
       "      <th>400</th>\n",
       "      <td>우리나라도 집단적인 직접 예배 강행 시 차원에서의 고발 벌금 부과뿐만 아니라 이렇게...</td>\n",
       "      <td>0</td>\n",
       "    </tr>\n",
       "    <tr>\n",
       "      <th>401</th>\n",
       "      <td>이말도 틀린것이다 다른사건은 모르겟고 콜롬비아에서온 광주 신천지확진자 명이 일주일전...</td>\n",
       "      <td>0</td>\n",
       "    </tr>\n",
       "    <tr>\n",
       "      <th>402</th>\n",
       "      <td>주가올릴생각만 가득한것들</td>\n",
       "      <td>0</td>\n",
       "    </tr>\n",
       "    <tr>\n",
       "      <th>403</th>\n",
       "      <td>이제 겨우 만명아직 멀었다 억이 넘는 인구에 만명이면 이제 시작이다만명은 검사 받아...</td>\n",
       "      <td>0</td>\n",
       "    </tr>\n",
       "  </tbody>\n",
       "</table>\n",
       "<p>403 rows × 2 columns</p>\n",
       "</div>"
      ],
      "text/plain": [
       "                                                거리두기_3 예측값\n",
       "0    개학 연기하는동안 아무런 대책도 하지 않은건지 애들만 덩그러니 집에서 온라인수업을 ...   0\n",
       "2    초중고 개학 전까진 대학도 문 열면 안 되지  그럼 지금까지 고생한 거 싹 다 물거...   0\n",
       "3                이렇게 전파력센데 좀 입국이라도 좀 빨리막고 격리좀시키지 진짜답없다   0\n",
       "4                           회사가 미국 갔다온거 아는데 강제로 출근 시켰니   1\n",
       "5    중국 우한 폐렴이 사람들을 꼼짝 못하게 하네요중국의 저주라고 해야 할지아이러니하게 ...   1\n",
       "..                                                 ...  ..\n",
       "399               우이교 벚꽃은 통제 안하니 보실분 보러가세요어제 사람 많더라고요    0\n",
       "400  우리나라도 집단적인 직접 예배 강행 시 차원에서의 고발 벌금 부과뿐만 아니라 이렇게...   0\n",
       "401  이말도 틀린것이다 다른사건은 모르겟고 콜롬비아에서온 광주 신천지확진자 명이 일주일전...   0\n",
       "402                                      주가올릴생각만 가득한것들   0\n",
       "403  이제 겨우 만명아직 멀었다 억이 넘는 인구에 만명이면 이제 시작이다만명은 검사 받아...   0\n",
       "\n",
       "[403 rows x 2 columns]"
      ]
     },
     "execution_count": 926,
     "metadata": {},
     "output_type": "execute_result"
    }
   ],
   "source": [
    "거리두기_3월"
   ]
  },
  {
   "cell_type": "code",
   "execution_count": 941,
   "metadata": {},
   "outputs": [
    {
     "data": {
      "text/html": [
       "<div>\n",
       "<style scoped>\n",
       "    .dataframe tbody tr th:only-of-type {\n",
       "        vertical-align: middle;\n",
       "    }\n",
       "\n",
       "    .dataframe tbody tr th {\n",
       "        vertical-align: top;\n",
       "    }\n",
       "\n",
       "    .dataframe thead th {\n",
       "        text-align: right;\n",
       "    }\n",
       "</style>\n",
       "<table border=\"1\" class=\"dataframe\">\n",
       "  <thead>\n",
       "    <tr style=\"text-align: right;\">\n",
       "      <th></th>\n",
       "      <th>거리두기_4</th>\n",
       "      <th>예측값</th>\n",
       "    </tr>\n",
       "  </thead>\n",
       "  <tbody>\n",
       "    <tr>\n",
       "      <th>0</th>\n",
       "      <td>돈주고두 못 사는 강의 듣고 갑니다</td>\n",
       "      <td>1</td>\n",
       "    </tr>\n",
       "    <tr>\n",
       "      <th>1</th>\n",
       "      <td>그동안 영화관에 방문하지 못해 아쉬움이 많이 컸었는데 다시 오픈을 하게 된다는 소식...</td>\n",
       "      <td>1</td>\n",
       "    </tr>\n",
       "    <tr>\n",
       "      <th>2</th>\n",
       "      <td>중국 제외한 다른 아시아인들은 대체 뭔 죄냐</td>\n",
       "      <td>1</td>\n",
       "    </tr>\n",
       "    <tr>\n",
       "      <th>3</th>\n",
       "      <td>대구시민인데요 지금까지 단 한번도 확진자 관련 동선같은거 제공받은거 없어요 초반 수...</td>\n",
       "      <td>1</td>\n",
       "    </tr>\n",
       "    <tr>\n",
       "      <th>4</th>\n",
       "      <td>방심 할 때가 아닌것 같다 아직 기레기들이 않걸렸다</td>\n",
       "      <td>0</td>\n",
       "    </tr>\n",
       "    <tr>\n",
       "      <th>...</th>\n",
       "      <td>...</td>\n",
       "      <td>...</td>\n",
       "    </tr>\n",
       "    <tr>\n",
       "      <th>485</th>\n",
       "      <td>테라 광고는 발전이 없네 맨날 똑같은데 왜 새로 만드는건지</td>\n",
       "      <td>1</td>\n",
       "    </tr>\n",
       "    <tr>\n",
       "      <th>486</th>\n",
       "      <td>도데체  다음달  언제냐고   날짜를  말혀라고     이러다 시간다 가것다</td>\n",
       "      <td>1</td>\n",
       "    </tr>\n",
       "    <tr>\n",
       "      <th>487</th>\n",
       "      <td>가능한 밀폐된 식당 실내 관광지 접근은 자제해 주시고 카페에 머무를때에도 마스크 착...</td>\n",
       "      <td>1</td>\n",
       "    </tr>\n",
       "    <tr>\n",
       "      <th>488</th>\n",
       "      <td>무슨 부산은 회색 하늘입니다</td>\n",
       "      <td>1</td>\n",
       "    </tr>\n",
       "    <tr>\n",
       "      <th>489</th>\n",
       "      <td>여행 자제해달라고 하면서사회적거리두기 하라면서일 만명 민족 대이동 시험을 칩니다가장...</td>\n",
       "      <td>0</td>\n",
       "    </tr>\n",
       "  </tbody>\n",
       "</table>\n",
       "<p>489 rows × 2 columns</p>\n",
       "</div>"
      ],
      "text/plain": [
       "                                                거리두기_4 예측값\n",
       "0                                  돈주고두 못 사는 강의 듣고 갑니다   1\n",
       "1    그동안 영화관에 방문하지 못해 아쉬움이 많이 컸었는데 다시 오픈을 하게 된다는 소식...   1\n",
       "2                             중국 제외한 다른 아시아인들은 대체 뭔 죄냐   1\n",
       "3    대구시민인데요 지금까지 단 한번도 확진자 관련 동선같은거 제공받은거 없어요 초반 수...   1\n",
       "4                         방심 할 때가 아닌것 같다 아직 기레기들이 않걸렸다   0\n",
       "..                                                 ...  ..\n",
       "485                   테라 광고는 발전이 없네 맨날 똑같은데 왜 새로 만드는건지   1\n",
       "486         도데체  다음달  언제냐고   날짜를  말혀라고     이러다 시간다 가것다   1\n",
       "487  가능한 밀폐된 식당 실내 관광지 접근은 자제해 주시고 카페에 머무를때에도 마스크 착...   1\n",
       "488                                    무슨 부산은 회색 하늘입니다   1\n",
       "489  여행 자제해달라고 하면서사회적거리두기 하라면서일 만명 민족 대이동 시험을 칩니다가장...   0\n",
       "\n",
       "[489 rows x 2 columns]"
      ]
     },
     "execution_count": 941,
     "metadata": {},
     "output_type": "execute_result"
    }
   ],
   "source": [
    "거리두기_4월"
   ]
  },
  {
   "cell_type": "code",
   "execution_count": 961,
   "metadata": {},
   "outputs": [
    {
     "data": {
      "text/html": [
       "<div>\n",
       "<style scoped>\n",
       "    .dataframe tbody tr th:only-of-type {\n",
       "        vertical-align: middle;\n",
       "    }\n",
       "\n",
       "    .dataframe tbody tr th {\n",
       "        vertical-align: top;\n",
       "    }\n",
       "\n",
       "    .dataframe thead th {\n",
       "        text-align: right;\n",
       "    }\n",
       "</style>\n",
       "<table border=\"1\" class=\"dataframe\">\n",
       "  <thead>\n",
       "    <tr style=\"text-align: right;\">\n",
       "      <th></th>\n",
       "      <th>거리두기_5</th>\n",
       "      <th>예측값</th>\n",
       "    </tr>\n",
       "  </thead>\n",
       "  <tbody>\n",
       "    <tr>\n",
       "      <th>0</th>\n",
       "      <td>문빠들은 이딴거 관심없어요</td>\n",
       "      <td>1</td>\n",
       "    </tr>\n",
       "    <tr>\n",
       "      <th>1</th>\n",
       "      <td>개장하지마 학교도 제대로 못가는데 무슨 해수욕이야 얼어주글</td>\n",
       "      <td>1</td>\n",
       "    </tr>\n",
       "    <tr>\n",
       "      <th>2</th>\n",
       "      <td>면역력이 약한 어린이들이 많이 모여있는 곳에는 마스크가 계속 필요할 텐데 배부를 해...</td>\n",
       "      <td>1</td>\n",
       "    </tr>\n",
       "    <tr>\n",
       "      <th>3</th>\n",
       "      <td>대출 앵꼬 다음은 뭐 집팔고 노숙이야 집값 천년만년 우상향일줄 알지ㅋㅋㅋ</td>\n",
       "      <td>0</td>\n",
       "    </tr>\n",
       "    <tr>\n",
       "      <th>4</th>\n",
       "      <td>이와중에 해운대 개장하냐 ㅋㅋㅋ</td>\n",
       "      <td>1</td>\n",
       "    </tr>\n",
       "    <tr>\n",
       "      <th>...</th>\n",
       "      <td>...</td>\n",
       "      <td>...</td>\n",
       "    </tr>\n",
       "    <tr>\n",
       "      <th>637</th>\n",
       "      <td>정부가 슈퍼전파자</td>\n",
       "      <td>0</td>\n",
       "    </tr>\n",
       "    <tr>\n",
       "      <th>638</th>\n",
       "      <td>ㅋㅋㅋ 대책없이 그냥 세금으로 꼬라박았더니 소상공인들은 가격올려서 꿀꺽질ㅋㅋ 이게 ...</td>\n",
       "      <td>1</td>\n",
       "    </tr>\n",
       "    <tr>\n",
       "      <th>639</th>\n",
       "      <td>방역당국 더이상 쉬쉬하다가는 우리애들 큰일난다 ㅡㅡ  문죄인 눈치보지 말고 확실히해라</td>\n",
       "      <td>1</td>\n",
       "    </tr>\n",
       "    <tr>\n",
       "      <th>640</th>\n",
       "      <td>애들 좀 살립시다방역은 누가 지어낸 개소리인지</td>\n",
       "      <td>0</td>\n",
       "    </tr>\n",
       "    <tr>\n",
       "      <th>641</th>\n",
       "      <td>설비투자가 악영향을 미친다는 건 도데체 어느 머리에서 나온 생각임 지금 당장  순익...</td>\n",
       "      <td>1</td>\n",
       "    </tr>\n",
       "  </tbody>\n",
       "</table>\n",
       "<p>641 rows × 2 columns</p>\n",
       "</div>"
      ],
      "text/plain": [
       "                                                거리두기_5 예측값\n",
       "0                                       문빠들은 이딴거 관심없어요   1\n",
       "1                     개장하지마 학교도 제대로 못가는데 무슨 해수욕이야 얼어주글   1\n",
       "2    면역력이 약한 어린이들이 많이 모여있는 곳에는 마스크가 계속 필요할 텐데 배부를 해...   1\n",
       "3             대출 앵꼬 다음은 뭐 집팔고 노숙이야 집값 천년만년 우상향일줄 알지ㅋㅋㅋ   0\n",
       "4                                    이와중에 해운대 개장하냐 ㅋㅋㅋ   1\n",
       "..                                                 ...  ..\n",
       "637                                          정부가 슈퍼전파자   0\n",
       "638  ㅋㅋㅋ 대책없이 그냥 세금으로 꼬라박았더니 소상공인들은 가격올려서 꿀꺽질ㅋㅋ 이게 ...   1\n",
       "639   방역당국 더이상 쉬쉬하다가는 우리애들 큰일난다 ㅡㅡ  문죄인 눈치보지 말고 확실히해라    1\n",
       "640                          애들 좀 살립시다방역은 누가 지어낸 개소리인지   0\n",
       "641  설비투자가 악영향을 미친다는 건 도데체 어느 머리에서 나온 생각임 지금 당장  순익...   1\n",
       "\n",
       "[641 rows x 2 columns]"
      ]
     },
     "execution_count": 961,
     "metadata": {},
     "output_type": "execute_result"
    }
   ],
   "source": [
    "거리두기_5월"
   ]
  },
  {
   "cell_type": "code",
   "execution_count": 962,
   "metadata": {},
   "outputs": [],
   "source": [
    "거리두기_긍정 = pd.DataFrame(index = range(0, 5), \n",
    "                      columns = ['predict',\n",
    "                                 'month'])\n",
    "                        \n",
    "거리두기_부정 = pd.DataFrame(index = range(0, 5),\n",
    "                      columns = ['predict',\n",
    "                                 'month'])  "
   ]
  },
  {
   "cell_type": "code",
   "execution_count": 963,
   "metadata": {},
   "outputs": [],
   "source": [
    "거리두기_부정['predict'].iloc[0:] = (거리두기_1월['예측값'] == '1').sum(axis=0)\n",
    "거리두기_부정['predict'].iloc[1:] = (거리두기_2월['예측값'] == '1').sum(axis=0)\n",
    "거리두기_부정['predict'].iloc[2:] = (거리두기_3월['예측값'] == '1').sum(axis=0)\n",
    "거리두기_부정['predict'].iloc[3:] = (거리두기_4월['예측값'] == '1').sum(axis=0)\n",
    "거리두기_부정['predict'].iloc[4:] = (거리두기_5월['예측값'] == '1').sum(axis=0)\n",
    "\n",
    "거리두기_긍정['predict'].iloc[0:] = (거리두기_1월['예측값'] == '0').sum(axis=0)\n",
    "거리두기_긍정['predict'].iloc[1:] = (거리두기_2월['예측값'] == '0').sum(axis=0)\n",
    "거리두기_긍정['predict'].iloc[2:] = (거리두기_3월['예측값'] == '0').sum(axis=0)\n",
    "거리두기_긍정['predict'].iloc[3:] = (거리두기_4월['예측값'] == '0').sum(axis=0)\n",
    "거리두기_긍정['predict'].iloc[4:] = (거리두기_5월['예측값'] == '0').sum(axis=0)"
   ]
  },
  {
   "cell_type": "code",
   "execution_count": 964,
   "metadata": {},
   "outputs": [],
   "source": [
    "month = ['jan','feb','mar','apr','may']\n",
    "\n",
    "거리두기_긍정['month'].iloc[:] = month\n",
    "거리두기_부정['month'].iloc[:] = month"
   ]
  },
  {
   "cell_type": "code",
   "execution_count": 967,
   "metadata": {},
   "outputs": [
    {
     "data": {
      "text/html": [
       "<div>\n",
       "<style scoped>\n",
       "    .dataframe tbody tr th:only-of-type {\n",
       "        vertical-align: middle;\n",
       "    }\n",
       "\n",
       "    .dataframe tbody tr th {\n",
       "        vertical-align: top;\n",
       "    }\n",
       "\n",
       "    .dataframe thead th {\n",
       "        text-align: right;\n",
       "    }\n",
       "</style>\n",
       "<table border=\"1\" class=\"dataframe\">\n",
       "  <thead>\n",
       "    <tr style=\"text-align: right;\">\n",
       "      <th></th>\n",
       "      <th>predict</th>\n",
       "      <th>month</th>\n",
       "    </tr>\n",
       "  </thead>\n",
       "  <tbody>\n",
       "    <tr>\n",
       "      <th>0</th>\n",
       "      <td>1</td>\n",
       "      <td>jan</td>\n",
       "    </tr>\n",
       "    <tr>\n",
       "      <th>1</th>\n",
       "      <td>43</td>\n",
       "      <td>feb</td>\n",
       "    </tr>\n",
       "    <tr>\n",
       "      <th>2</th>\n",
       "      <td>203</td>\n",
       "      <td>mar</td>\n",
       "    </tr>\n",
       "    <tr>\n",
       "      <th>3</th>\n",
       "      <td>254</td>\n",
       "      <td>apr</td>\n",
       "    </tr>\n",
       "    <tr>\n",
       "      <th>4</th>\n",
       "      <td>327</td>\n",
       "      <td>may</td>\n",
       "    </tr>\n",
       "  </tbody>\n",
       "</table>\n",
       "</div>"
      ],
      "text/plain": [
       "  predict month\n",
       "0       1   jan\n",
       "1      43   feb\n",
       "2     203   mar\n",
       "3     254   apr\n",
       "4     327   may"
      ]
     },
     "execution_count": 967,
     "metadata": {},
     "output_type": "execute_result"
    }
   ],
   "source": [
    "거리두기_긍정"
   ]
  },
  {
   "cell_type": "code",
   "execution_count": 968,
   "metadata": {},
   "outputs": [
    {
     "data": {
      "text/html": [
       "<div>\n",
       "<style scoped>\n",
       "    .dataframe tbody tr th:only-of-type {\n",
       "        vertical-align: middle;\n",
       "    }\n",
       "\n",
       "    .dataframe tbody tr th {\n",
       "        vertical-align: top;\n",
       "    }\n",
       "\n",
       "    .dataframe thead th {\n",
       "        text-align: right;\n",
       "    }\n",
       "</style>\n",
       "<table border=\"1\" class=\"dataframe\">\n",
       "  <thead>\n",
       "    <tr style=\"text-align: right;\">\n",
       "      <th></th>\n",
       "      <th>predict</th>\n",
       "      <th>month</th>\n",
       "    </tr>\n",
       "  </thead>\n",
       "  <tbody>\n",
       "    <tr>\n",
       "      <th>0</th>\n",
       "      <td>3</td>\n",
       "      <td>jan</td>\n",
       "    </tr>\n",
       "    <tr>\n",
       "      <th>1</th>\n",
       "      <td>23</td>\n",
       "      <td>feb</td>\n",
       "    </tr>\n",
       "    <tr>\n",
       "      <th>2</th>\n",
       "      <td>200</td>\n",
       "      <td>mar</td>\n",
       "    </tr>\n",
       "    <tr>\n",
       "      <th>3</th>\n",
       "      <td>235</td>\n",
       "      <td>apr</td>\n",
       "    </tr>\n",
       "    <tr>\n",
       "      <th>4</th>\n",
       "      <td>314</td>\n",
       "      <td>may</td>\n",
       "    </tr>\n",
       "  </tbody>\n",
       "</table>\n",
       "</div>"
      ],
      "text/plain": [
       "  predict month\n",
       "0       3   jan\n",
       "1      23   feb\n",
       "2     200   mar\n",
       "3     235   apr\n",
       "4     314   may"
      ]
     },
     "execution_count": 968,
     "metadata": {},
     "output_type": "execute_result"
    }
   ],
   "source": [
    "거리두기_부정"
   ]
  },
  {
   "cell_type": "code",
   "execution_count": 973,
   "metadata": {},
   "outputs": [
    {
     "data": {
      "text/plain": [
       "(0.0, 400.0)"
      ]
     },
     "execution_count": 973,
     "metadata": {},
     "output_type": "execute_result"
    },
    {
     "data": {
      "image/png": "[encoded data removed]",
      "text/plain": [
       "<Figure size 432x288 with 1 Axes>"
      ]
     },
     "metadata": {
      "needs_background": "light"
     },
     "output_type": "display_data"
    }
   ],
   "source": [
    "import seaborn as sns\n",
    "import matplotlib.patches as mpatches\n",
    "\n",
    "plt.title('Keeping Distance')\n",
    "sns.pointplot(x='month', y='predict', data = 거리두기_긍정, color = 'skyblue', label = 'positive')\n",
    "positive = mpatches.Patch(color='skyblue', label='positive')\n",
    "plt.legend(handles = [positive])\n",
    "\n",
    "sns.pointplot(x='month', y='predict', data = 거리두기_부정, color = 'orange', label = 'negative')\n",
    "negative = mpatches.Patch(color='orange', label='negative')\n",
    "plt.legend(handles = [positive, negative])\n",
    "\n",
    "plt.ylim(0, 400)"
   ]
  },
  {
   "cell_type": "markdown",
   "metadata": {},
   "source": [
    "## 코로나 키워드 데이터 결과"
   ]
  },
  {
   "cell_type": "code",
   "execution_count": 433,
   "metadata": {},
   "outputs": [
    {
     "data": {
      "text/html": [
       "<div>\n",
       "<style scoped>\n",
       "    .dataframe tbody tr th:only-of-type {\n",
       "        vertical-align: middle;\n",
       "    }\n",
       "\n",
       "    .dataframe tbody tr th {\n",
       "        vertical-align: top;\n",
       "    }\n",
       "\n",
       "    .dataframe thead th {\n",
       "        text-align: right;\n",
       "    }\n",
       "</style>\n",
       "<table border=\"1\" class=\"dataframe\">\n",
       "  <thead>\n",
       "    <tr style=\"text-align: right;\">\n",
       "      <th></th>\n",
       "      <th>코로나_1</th>\n",
       "      <th>예측값</th>\n",
       "    </tr>\n",
       "  </thead>\n",
       "  <tbody>\n",
       "    <tr>\n",
       "      <th>0</th>\n",
       "      <td>다행이네요 근데 희한하게 하필 많고많은 직업중에 어린이집교사들이 ㅜㅜ</td>\n",
       "      <td>1</td>\n",
       "    </tr>\n",
       "    <tr>\n",
       "      <th>1</th>\n",
       "      <td>한동안 미세먼지는 없겠구만</td>\n",
       "      <td>1</td>\n",
       "    </tr>\n",
       "    <tr>\n",
       "      <th>2</th>\n",
       "      <td>차 전세기에 못탄 한국인 명 있었다는데  그심정은 말로 표현 못할거같아요 한국으로 ...</td>\n",
       "      <td>0</td>\n",
       "    </tr>\n",
       "    <tr>\n",
       "      <th>3</th>\n",
       "      <td>도대체 이분들 데리러 가고 오고가 왜 속보며 왜이리 호들갑이냐 우한서 들어온 천명 ...</td>\n",
       "      <td>0</td>\n",
       "    </tr>\n",
       "    <tr>\n",
       "      <th>4</th>\n",
       "      <td>번째확진자도 음성이다해서 격리해제로퇴원시켰지만 그뒤로 안좋아져서다시 확진자로 되었다...</td>\n",
       "      <td>0</td>\n",
       "    </tr>\n",
       "    <tr>\n",
       "      <th>...</th>\n",
       "      <td>...</td>\n",
       "      <td>...</td>\n",
       "    </tr>\n",
       "    <tr>\n",
       "      <th>813</th>\n",
       "      <td>결국 번때문에 이 사단이 나는구나</td>\n",
       "      <td>0</td>\n",
       "    </tr>\n",
       "    <tr>\n",
       "      <th>814</th>\n",
       "      <td>힘들겠지만 이겨내기를 바랍니다</td>\n",
       "      <td>0</td>\n",
       "    </tr>\n",
       "    <tr>\n",
       "      <th>815</th>\n",
       "      <td>지랄을 하세요  대기업 꼬봉 세키들</td>\n",
       "      <td>1</td>\n",
       "    </tr>\n",
       "    <tr>\n",
       "      <th>816</th>\n",
       "      <td>일이 디데이였다 그 때라도 선제적 조치를 취했어야 한다 불안해하지 말라고 양산 휴가...</td>\n",
       "      <td>0</td>\n",
       "    </tr>\n",
       "    <tr>\n",
       "      <th>817</th>\n",
       "      <td>짱개새끼들한테는 만벌씩 방호복 쳐 갖다 바치더만 정작 자국민들한테는 방호복도 안입히...</td>\n",
       "      <td>0</td>\n",
       "    </tr>\n",
       "  </tbody>\n",
       "</table>\n",
       "<p>817 rows × 2 columns</p>\n",
       "</div>"
      ],
      "text/plain": [
       "                                                 코로나_1 예측값\n",
       "0               다행이네요 근데 희한하게 하필 많고많은 직업중에 어린이집교사들이 ㅜㅜ   1\n",
       "1                                       한동안 미세먼지는 없겠구만   1\n",
       "2    차 전세기에 못탄 한국인 명 있었다는데  그심정은 말로 표현 못할거같아요 한국으로 ...   0\n",
       "3    도대체 이분들 데리러 가고 오고가 왜 속보며 왜이리 호들갑이냐 우한서 들어온 천명 ...   0\n",
       "4    번째확진자도 음성이다해서 격리해제로퇴원시켰지만 그뒤로 안좋아져서다시 확진자로 되었다...   0\n",
       "..                                                 ...  ..\n",
       "813                                 결국 번때문에 이 사단이 나는구나   0\n",
       "814                                   힘들겠지만 이겨내기를 바랍니다   0\n",
       "815                                지랄을 하세요  대기업 꼬봉 세키들   1\n",
       "816  일이 디데이였다 그 때라도 선제적 조치를 취했어야 한다 불안해하지 말라고 양산 휴가...   0\n",
       "817  짱개새끼들한테는 만벌씩 방호복 쳐 갖다 바치더만 정작 자국민들한테는 방호복도 안입히...   0\n",
       "\n",
       "[817 rows x 2 columns]"
      ]
     },
     "execution_count": 433,
     "metadata": {},
     "output_type": "execute_result"
    }
   ],
   "source": [
    "코로나_1월"
   ]
  },
  {
   "cell_type": "code",
   "execution_count": 452,
   "metadata": {},
   "outputs": [
    {
     "data": {
      "text/html": [
       "<div>\n",
       "<style scoped>\n",
       "    .dataframe tbody tr th:only-of-type {\n",
       "        vertical-align: middle;\n",
       "    }\n",
       "\n",
       "    .dataframe tbody tr th {\n",
       "        vertical-align: top;\n",
       "    }\n",
       "\n",
       "    .dataframe thead th {\n",
       "        text-align: right;\n",
       "    }\n",
       "</style>\n",
       "<table border=\"1\" class=\"dataframe\">\n",
       "  <thead>\n",
       "    <tr style=\"text-align: right;\">\n",
       "      <th></th>\n",
       "      <th>코로나_2</th>\n",
       "      <th>예측값</th>\n",
       "    </tr>\n",
       "  </thead>\n",
       "  <tbody>\n",
       "    <tr>\n",
       "      <th>0</th>\n",
       "      <td>한동안 미세먼지는 없겠구만</td>\n",
       "      <td>0</td>\n",
       "    </tr>\n",
       "    <tr>\n",
       "      <th>1</th>\n",
       "      <td>차 전세기에 못탄 한국인 명 있었다는데  그심정은 말로 표현 못할거같아요 한국으로 ...</td>\n",
       "      <td>0</td>\n",
       "    </tr>\n",
       "    <tr>\n",
       "      <th>2</th>\n",
       "      <td>다행이네요 근데 희한하게 하필 많고많은 직업중에 어린이집교사들이 ㅜㅜ</td>\n",
       "      <td>1</td>\n",
       "    </tr>\n",
       "    <tr>\n",
       "      <th>3</th>\n",
       "      <td>도대체 이분들 데리러 가고 오고가 왜 속보며 왜이리 호들갑이냐 우한서 들어온 천명 ...</td>\n",
       "      <td>0</td>\n",
       "    </tr>\n",
       "    <tr>\n",
       "      <th>4</th>\n",
       "      <td>도대체 이분들 데리러 가고 오고가 왜 속보며 왜이리 호들갑이냐 우한서 들어온 천명 ...</td>\n",
       "      <td>0</td>\n",
       "    </tr>\n",
       "    <tr>\n",
       "      <th>...</th>\n",
       "      <td>...</td>\n",
       "      <td>...</td>\n",
       "    </tr>\n",
       "    <tr>\n",
       "      <th>4116</th>\n",
       "      <td>힘들겠지만 이겨내기를 바랍니다</td>\n",
       "      <td>1</td>\n",
       "    </tr>\n",
       "    <tr>\n",
       "      <th>4117</th>\n",
       "      <td>힘들겠지만 이겨내기를 바랍니다</td>\n",
       "      <td>1</td>\n",
       "    </tr>\n",
       "    <tr>\n",
       "      <th>4119</th>\n",
       "      <td>지랄을 하세요  대기업 꼬봉 세키들</td>\n",
       "      <td>1</td>\n",
       "    </tr>\n",
       "    <tr>\n",
       "      <th>4120</th>\n",
       "      <td>일이 디데이였다 그 때라도 선제적 조치를 취했어야 한다 불안해하지 말라고 양산 휴가...</td>\n",
       "      <td>1</td>\n",
       "    </tr>\n",
       "    <tr>\n",
       "      <th>4121</th>\n",
       "      <td>일이 디데이였다 그 때라도 선제적 조치를 취했어야 한다 불안해하지 말라고 양산 휴가...</td>\n",
       "      <td>1</td>\n",
       "    </tr>\n",
       "  </tbody>\n",
       "</table>\n",
       "<p>3103 rows × 2 columns</p>\n",
       "</div>"
      ],
      "text/plain": [
       "                                                  코로나_2 예측값\n",
       "0                                        한동안 미세먼지는 없겠구만   0\n",
       "1     차 전세기에 못탄 한국인 명 있었다는데  그심정은 말로 표현 못할거같아요 한국으로 ...   0\n",
       "2                다행이네요 근데 희한하게 하필 많고많은 직업중에 어린이집교사들이 ㅜㅜ   1\n",
       "3     도대체 이분들 데리러 가고 오고가 왜 속보며 왜이리 호들갑이냐 우한서 들어온 천명 ...   0\n",
       "4     도대체 이분들 데리러 가고 오고가 왜 속보며 왜이리 호들갑이냐 우한서 들어온 천명 ...   0\n",
       "...                                                 ...  ..\n",
       "4116                                   힘들겠지만 이겨내기를 바랍니다   1\n",
       "4117                                   힘들겠지만 이겨내기를 바랍니다   1\n",
       "4119                                지랄을 하세요  대기업 꼬봉 세키들   1\n",
       "4120  일이 디데이였다 그 때라도 선제적 조치를 취했어야 한다 불안해하지 말라고 양산 휴가...   1\n",
       "4121  일이 디데이였다 그 때라도 선제적 조치를 취했어야 한다 불안해하지 말라고 양산 휴가...   1\n",
       "\n",
       "[3103 rows x 2 columns]"
      ]
     },
     "execution_count": 452,
     "metadata": {},
     "output_type": "execute_result"
    }
   ],
   "source": [
    "코로나_2월"
   ]
  },
  {
   "cell_type": "code",
   "execution_count": 472,
   "metadata": {},
   "outputs": [
    {
     "data": {
      "text/html": [
       "<div>\n",
       "<style scoped>\n",
       "    .dataframe tbody tr th:only-of-type {\n",
       "        vertical-align: middle;\n",
       "    }\n",
       "\n",
       "    .dataframe tbody tr th {\n",
       "        vertical-align: top;\n",
       "    }\n",
       "\n",
       "    .dataframe thead th {\n",
       "        text-align: right;\n",
       "    }\n",
       "</style>\n",
       "<table border=\"1\" class=\"dataframe\">\n",
       "  <thead>\n",
       "    <tr style=\"text-align: right;\">\n",
       "      <th></th>\n",
       "      <th>코로나_3</th>\n",
       "      <th>예측값</th>\n",
       "    </tr>\n",
       "  </thead>\n",
       "  <tbody>\n",
       "    <tr>\n",
       "      <th>0</th>\n",
       "      <td>정후보가 당선되면 인천은 촌구석임을 스스로 인정하는건가</td>\n",
       "      <td>1</td>\n",
       "    </tr>\n",
       "    <tr>\n",
       "      <th>2</th>\n",
       "      <td>계속 주변에서 추가 확진 소식이 들려오니 불안하고 두렵네요 이 코로나바이러스가 우리...</td>\n",
       "      <td>0</td>\n",
       "    </tr>\n",
       "    <tr>\n",
       "      <th>3</th>\n",
       "      <td>이 시국에 여행을 왜가ㅡㅡ생각이없는듯</td>\n",
       "      <td>0</td>\n",
       "    </tr>\n",
       "    <tr>\n",
       "      <th>4</th>\n",
       "      <td>푸틴도 중공역병에 뒤지는겨ㅋㅋㅋㅋㅋㅋㅋ</td>\n",
       "      <td>1</td>\n",
       "    </tr>\n",
       "    <tr>\n",
       "      <th>5</th>\n",
       "      <td>유럽은 우리보다 주 늦게 미국은 주 늦게 적극적인 검사를 시작했는데 지금 이렇게 결...</td>\n",
       "      <td>0</td>\n",
       "    </tr>\n",
       "    <tr>\n",
       "      <th>...</th>\n",
       "      <td>...</td>\n",
       "      <td>...</td>\n",
       "    </tr>\n",
       "    <tr>\n",
       "      <th>430</th>\n",
       "      <td>클로로퀸 부작용이 의사처방없이 먹은거랑 어류용 클로로퀸 먹은거랑 과다복용이런거 아닌...</td>\n",
       "      <td>0</td>\n",
       "    </tr>\n",
       "    <tr>\n",
       "      <th>431</th>\n",
       "      <td>우스운 한수원 행태인가 전 직원에게 강압적인 자율적반납을 한다고 한다 이런 것은 아...</td>\n",
       "      <td>0</td>\n",
       "    </tr>\n",
       "    <tr>\n",
       "      <th>432</th>\n",
       "      <td>광주시  시장은 다음  새로운 분으로 교체 건의 예정아니면 이사가던가 해야겠다</td>\n",
       "      <td>0</td>\n",
       "    </tr>\n",
       "    <tr>\n",
       "      <th>433</th>\n",
       "      <td>간병인들을 조사하라고왜 중국인간병인에대해서는 일체언급이 없는거냐 참 아이러니 하다</td>\n",
       "      <td>1</td>\n",
       "    </tr>\n",
       "    <tr>\n",
       "      <th>434</th>\n",
       "      <td>인권위 너는 뭐니  무슨 인권 어떻게 해야 하는게 인권 일까</td>\n",
       "      <td>1</td>\n",
       "    </tr>\n",
       "  </tbody>\n",
       "</table>\n",
       "<p>433 rows × 2 columns</p>\n",
       "</div>"
      ],
      "text/plain": [
       "                                                 코로나_3 예측값\n",
       "0                       정후보가 당선되면 인천은 촌구석임을 스스로 인정하는건가   1\n",
       "2    계속 주변에서 추가 확진 소식이 들려오니 불안하고 두렵네요 이 코로나바이러스가 우리...   0\n",
       "3                                 이 시국에 여행을 왜가ㅡㅡ생각이없는듯   0\n",
       "4                                푸틴도 중공역병에 뒤지는겨ㅋㅋㅋㅋㅋㅋㅋ   1\n",
       "5    유럽은 우리보다 주 늦게 미국은 주 늦게 적극적인 검사를 시작했는데 지금 이렇게 결...   0\n",
       "..                                                 ...  ..\n",
       "430  클로로퀸 부작용이 의사처방없이 먹은거랑 어류용 클로로퀸 먹은거랑 과다복용이런거 아닌...   0\n",
       "431  우스운 한수원 행태인가 전 직원에게 강압적인 자율적반납을 한다고 한다 이런 것은 아...   0\n",
       "432        광주시  시장은 다음  새로운 분으로 교체 건의 예정아니면 이사가던가 해야겠다   0\n",
       "433      간병인들을 조사하라고왜 중국인간병인에대해서는 일체언급이 없는거냐 참 아이러니 하다   1\n",
       "434                  인권위 너는 뭐니  무슨 인권 어떻게 해야 하는게 인권 일까   1\n",
       "\n",
       "[433 rows x 2 columns]"
      ]
     },
     "execution_count": 472,
     "metadata": {},
     "output_type": "execute_result"
    }
   ],
   "source": [
    "코로나_3월"
   ]
  },
  {
   "cell_type": "code",
   "execution_count": 489,
   "metadata": {},
   "outputs": [
    {
     "data": {
      "text/html": [
       "<div>\n",
       "<style scoped>\n",
       "    .dataframe tbody tr th:only-of-type {\n",
       "        vertical-align: middle;\n",
       "    }\n",
       "\n",
       "    .dataframe tbody tr th {\n",
       "        vertical-align: top;\n",
       "    }\n",
       "\n",
       "    .dataframe thead th {\n",
       "        text-align: right;\n",
       "    }\n",
       "</style>\n",
       "<table border=\"1\" class=\"dataframe\">\n",
       "  <thead>\n",
       "    <tr style=\"text-align: right;\">\n",
       "      <th></th>\n",
       "      <th>코로나_4</th>\n",
       "      <th>예측값</th>\n",
       "    </tr>\n",
       "  </thead>\n",
       "  <tbody>\n",
       "    <tr>\n",
       "      <th>0</th>\n",
       "      <td>이런시국에 코스피가 오르는건 무지한 개미때문인가</td>\n",
       "      <td>1</td>\n",
       "    </tr>\n",
       "    <tr>\n",
       "      <th>1</th>\n",
       "      <td>이름도 재수 없네</td>\n",
       "      <td>0</td>\n",
       "    </tr>\n",
       "    <tr>\n",
       "      <th>2</th>\n",
       "      <td>저게 우리가 그토록 갈망하던 최고의 선진국에 로망이였나 개가 죽어도 저런식으론 처리...</td>\n",
       "      <td>0</td>\n",
       "    </tr>\n",
       "    <tr>\n",
       "      <th>3</th>\n",
       "      <td>역시 독일은 다르네 그래야 이런 일 또 생기면 잘 할테니까ㅋ</td>\n",
       "      <td>0</td>\n",
       "    </tr>\n",
       "    <tr>\n",
       "      <th>4</th>\n",
       "      <td>경기가 안 좋으면 원래 중고거래가 잘 되는 법 슬픈 현실이다</td>\n",
       "      <td>1</td>\n",
       "    </tr>\n",
       "    <tr>\n",
       "      <th>...</th>\n",
       "      <td>...</td>\n",
       "      <td>...</td>\n",
       "    </tr>\n",
       "    <tr>\n",
       "      <th>636</th>\n",
       "      <td>가는건 좋은데  피해는 안주고 왔으면 좋겠다행여나 명이라도 나오는 순간엔 손해배상들...</td>\n",
       "      <td>0</td>\n",
       "    </tr>\n",
       "    <tr>\n",
       "      <th>637</th>\n",
       "      <td>돌려서 본인 힘이라고 말하네 사망자 천명 이상 나면 나라가 힘없어서 그러나 미국 프...</td>\n",
       "      <td>0</td>\n",
       "    </tr>\n",
       "    <tr>\n",
       "      <th>638</th>\n",
       "      <td>장가 니가 국회의원이라고 면상들고 나오는건 양심이 있는거야</td>\n",
       "      <td>1</td>\n",
       "    </tr>\n",
       "    <tr>\n",
       "      <th>639</th>\n",
       "      <td>집에있어라 많이 좋아지긴했는데 어째 언론인이라는 인간이 이런 기사를 쓰지</td>\n",
       "      <td>0</td>\n",
       "    </tr>\n",
       "    <tr>\n",
       "      <th>640</th>\n",
       "      <td>아예 전염병이 없어졌기를 간절히 바랍니다  이후에도 더이상 확진자 없기를 간절히 바랍니다</td>\n",
       "      <td>1</td>\n",
       "    </tr>\n",
       "  </tbody>\n",
       "</table>\n",
       "<p>640 rows × 2 columns</p>\n",
       "</div>"
      ],
      "text/plain": [
       "                                                 코로나_4 예측값\n",
       "0                           이런시국에 코스피가 오르는건 무지한 개미때문인가   1\n",
       "1                                            이름도 재수 없네   0\n",
       "2    저게 우리가 그토록 갈망하던 최고의 선진국에 로망이였나 개가 죽어도 저런식으론 처리...   0\n",
       "3                    역시 독일은 다르네 그래야 이런 일 또 생기면 잘 할테니까ㅋ   0\n",
       "4                    경기가 안 좋으면 원래 중고거래가 잘 되는 법 슬픈 현실이다   1\n",
       "..                                                 ...  ..\n",
       "636  가는건 좋은데  피해는 안주고 왔으면 좋겠다행여나 명이라도 나오는 순간엔 손해배상들...   0\n",
       "637  돌려서 본인 힘이라고 말하네 사망자 천명 이상 나면 나라가 힘없어서 그러나 미국 프...   0\n",
       "638                   장가 니가 국회의원이라고 면상들고 나오는건 양심이 있는거야   1\n",
       "639           집에있어라 많이 좋아지긴했는데 어째 언론인이라는 인간이 이런 기사를 쓰지   0\n",
       "640  아예 전염병이 없어졌기를 간절히 바랍니다  이후에도 더이상 확진자 없기를 간절히 바랍니다   1\n",
       "\n",
       "[640 rows x 2 columns]"
      ]
     },
     "execution_count": 489,
     "metadata": {},
     "output_type": "execute_result"
    }
   ],
   "source": [
    "코로나_4월"
   ]
  },
  {
   "cell_type": "code",
   "execution_count": 506,
   "metadata": {},
   "outputs": [
    {
     "data": {
      "text/html": [
       "<div>\n",
       "<style scoped>\n",
       "    .dataframe tbody tr th:only-of-type {\n",
       "        vertical-align: middle;\n",
       "    }\n",
       "\n",
       "    .dataframe tbody tr th {\n",
       "        vertical-align: top;\n",
       "    }\n",
       "\n",
       "    .dataframe thead th {\n",
       "        text-align: right;\n",
       "    }\n",
       "</style>\n",
       "<table border=\"1\" class=\"dataframe\">\n",
       "  <thead>\n",
       "    <tr style=\"text-align: right;\">\n",
       "      <th></th>\n",
       "      <th>코로나_5</th>\n",
       "      <th>예측값</th>\n",
       "    </tr>\n",
       "  </thead>\n",
       "  <tbody>\n",
       "    <tr>\n",
       "      <th>0</th>\n",
       "      <td>양파농장에서 일하려고 보트까지사고 궂이 밀입국을 했다라</td>\n",
       "      <td>0</td>\n",
       "    </tr>\n",
       "    <tr>\n",
       "      <th>1</th>\n",
       "      <td>완전 감시사회 진입한다는 건대 중국과 뭐가 다르다는거냐</td>\n",
       "      <td>1</td>\n",
       "    </tr>\n",
       "    <tr>\n",
       "      <th>2</th>\n",
       "      <td>정상회의에 독일 빼고는 프랑스를 포함해서 대부분의 국가들이 참여 의사를 밝혔고 대...</td>\n",
       "      <td>1</td>\n",
       "    </tr>\n",
       "    <tr>\n",
       "      <th>3</th>\n",
       "      <td>질병을 정치로 이용해먹고 있는 모습을 보면서 화가난다 학부모 반대에도 학교는 억지로...</td>\n",
       "      <td>1</td>\n",
       "    </tr>\n",
       "    <tr>\n",
       "      <th>4</th>\n",
       "      <td>지나가는 길에 개가 짖어서 뭔가하고 봄</td>\n",
       "      <td>1</td>\n",
       "    </tr>\n",
       "    <tr>\n",
       "      <th>...</th>\n",
       "      <td>...</td>\n",
       "      <td>...</td>\n",
       "    </tr>\n",
       "    <tr>\n",
       "      <th>572</th>\n",
       "      <td>대깨문들은 당연히 안쳤겠지</td>\n",
       "      <td>1</td>\n",
       "    </tr>\n",
       "    <tr>\n",
       "      <th>573</th>\n",
       "      <td>이시국에 예배는 제발좀 집에서 해라</td>\n",
       "      <td>0</td>\n",
       "    </tr>\n",
       "    <tr>\n",
       "      <th>574</th>\n",
       "      <td>맨날 똑같은 사진이네요  도청 사진 다른 각도로 다시 컷</td>\n",
       "      <td>0</td>\n",
       "    </tr>\n",
       "    <tr>\n",
       "      <th>575</th>\n",
       "      <td>내일부터 만개의 건설현장사업장을 검사 해서 코로나가 있나 없나 점검하는 우리나라가 ...</td>\n",
       "      <td>0</td>\n",
       "    </tr>\n",
       "    <tr>\n",
       "      <th>576</th>\n",
       "      <td>암기나 줄줄 할줄아는 멍청한 공무원이랑 역시 다르네 ㅋㅋ 이렇게 대안을 생각해내야지...</td>\n",
       "      <td>1</td>\n",
       "    </tr>\n",
       "  </tbody>\n",
       "</table>\n",
       "<p>575 rows × 2 columns</p>\n",
       "</div>"
      ],
      "text/plain": [
       "                                                 코로나_5 예측값\n",
       "0                       양파농장에서 일하려고 보트까지사고 궂이 밀입국을 했다라   0\n",
       "1                       완전 감시사회 진입한다는 건대 중국과 뭐가 다르다는거냐   1\n",
       "2     정상회의에 독일 빼고는 프랑스를 포함해서 대부분의 국가들이 참여 의사를 밝혔고 대...   1\n",
       "3    질병을 정치로 이용해먹고 있는 모습을 보면서 화가난다 학부모 반대에도 학교는 억지로...   1\n",
       "4                                지나가는 길에 개가 짖어서 뭔가하고 봄   1\n",
       "..                                                 ...  ..\n",
       "572                                     대깨문들은 당연히 안쳤겠지   1\n",
       "573                                이시국에 예배는 제발좀 집에서 해라   0\n",
       "574                    맨날 똑같은 사진이네요  도청 사진 다른 각도로 다시 컷   0\n",
       "575  내일부터 만개의 건설현장사업장을 검사 해서 코로나가 있나 없나 점검하는 우리나라가 ...   0\n",
       "576  암기나 줄줄 할줄아는 멍청한 공무원이랑 역시 다르네 ㅋㅋ 이렇게 대안을 생각해내야지...   1\n",
       "\n",
       "[575 rows x 2 columns]"
      ]
     },
     "execution_count": 506,
     "metadata": {},
     "output_type": "execute_result"
    }
   ],
   "source": [
    "코로나_5월"
   ]
  },
  {
   "cell_type": "code",
   "execution_count": 723,
   "metadata": {},
   "outputs": [],
   "source": [
    "코로나_긍정 = pd.DataFrame(index = range(0, 5), \n",
    "                      columns = ['predict',\n",
    "                                 'month'])\n",
    "                        \n",
    "코로나_부정 = pd.DataFrame(index = range(0, 5),\n",
    "                      columns = ['predict',\n",
    "                                 'month'])                        "
   ]
  },
  {
   "cell_type": "code",
   "execution_count": 724,
   "metadata": {},
   "outputs": [],
   "source": [
    "코로나_부정['predict'].iloc[0:] = (코로나_1월['예측값'] == '1').sum(axis=0)\n",
    "코로나_부정['predict'].iloc[1:] = (코로나_2월['예측값'] == '1').sum(axis=0)\n",
    "코로나_부정['predict'].iloc[2:] = (코로나_3월['예측값'] == '1').sum(axis=0)\n",
    "코로나_부정['predict'].iloc[3:] = (코로나_4월['예측값'] == '1').sum(axis=0)\n",
    "코로나_부정['predict'].iloc[4:] = (코로나_5월['예측값'] == '1').sum(axis=0)\n",
    "\n",
    "코로나_긍정['predict'].iloc[0:] = (코로나_1월['예측값'] == '0').sum(axis=0)\n",
    "코로나_긍정['predict'].iloc[1:] = (코로나_2월['예측값'] == '0').sum(axis=0)\n",
    "코로나_긍정['predict'].iloc[2:] = (코로나_3월['예측값'] == '0').sum(axis=0)\n",
    "코로나_긍정['predict'].iloc[3:] = (코로나_4월['예측값'] == '0').sum(axis=0)\n",
    "코로나_긍정['predict'].iloc[4:] = (코로나_5월['예측값'] == '0').sum(axis=0)"
   ]
  },
  {
   "cell_type": "code",
   "execution_count": 680,
   "metadata": {},
   "outputs": [
    {
     "data": {
      "text/html": [
       "<div>\n",
       "<style scoped>\n",
       "    .dataframe tbody tr th:only-of-type {\n",
       "        vertical-align: middle;\n",
       "    }\n",
       "\n",
       "    .dataframe tbody tr th {\n",
       "        vertical-align: top;\n",
       "    }\n",
       "\n",
       "    .dataframe thead th {\n",
       "        text-align: right;\n",
       "    }\n",
       "</style>\n",
       "<table border=\"1\" class=\"dataframe\">\n",
       "  <thead>\n",
       "    <tr style=\"text-align: right;\">\n",
       "      <th></th>\n",
       "      <th>predict</th>\n",
       "      <th>month</th>\n",
       "    </tr>\n",
       "  </thead>\n",
       "  <tbody>\n",
       "    <tr>\n",
       "      <th>0</th>\n",
       "      <td>402</td>\n",
       "      <td>NaN</td>\n",
       "    </tr>\n",
       "    <tr>\n",
       "      <th>1</th>\n",
       "      <td>1941</td>\n",
       "      <td>NaN</td>\n",
       "    </tr>\n",
       "    <tr>\n",
       "      <th>2</th>\n",
       "      <td>197</td>\n",
       "      <td>NaN</td>\n",
       "    </tr>\n",
       "    <tr>\n",
       "      <th>3</th>\n",
       "      <td>284</td>\n",
       "      <td>NaN</td>\n",
       "    </tr>\n",
       "    <tr>\n",
       "      <th>4</th>\n",
       "      <td>276</td>\n",
       "      <td>NaN</td>\n",
       "    </tr>\n",
       "  </tbody>\n",
       "</table>\n",
       "</div>"
      ],
      "text/plain": [
       "  predict month\n",
       "0     402   NaN\n",
       "1    1941   NaN\n",
       "2     197   NaN\n",
       "3     284   NaN\n",
       "4     276   NaN"
      ]
     },
     "execution_count": 680,
     "metadata": {},
     "output_type": "execute_result"
    }
   ],
   "source": [
    "코로나_긍정.head()"
   ]
  },
  {
   "cell_type": "code",
   "execution_count": 725,
   "metadata": {},
   "outputs": [],
   "source": [
    "month = ['jan','feb','mar','apr','may']\n",
    "\n",
    "코로나_긍정['month'].iloc[:] = month\n",
    "코로나_부정['month'].iloc[:] = month"
   ]
  },
  {
   "cell_type": "code",
   "execution_count": 726,
   "metadata": {},
   "outputs": [
    {
     "data": {
      "text/html": [
       "<div>\n",
       "<style scoped>\n",
       "    .dataframe tbody tr th:only-of-type {\n",
       "        vertical-align: middle;\n",
       "    }\n",
       "\n",
       "    .dataframe tbody tr th {\n",
       "        vertical-align: top;\n",
       "    }\n",
       "\n",
       "    .dataframe thead th {\n",
       "        text-align: right;\n",
       "    }\n",
       "</style>\n",
       "<table border=\"1\" class=\"dataframe\">\n",
       "  <thead>\n",
       "    <tr style=\"text-align: right;\">\n",
       "      <th></th>\n",
       "      <th>predict</th>\n",
       "      <th>month</th>\n",
       "    </tr>\n",
       "  </thead>\n",
       "  <tbody>\n",
       "    <tr>\n",
       "      <th>0</th>\n",
       "      <td>415</td>\n",
       "      <td>jan</td>\n",
       "    </tr>\n",
       "    <tr>\n",
       "      <th>1</th>\n",
       "      <td>1162</td>\n",
       "      <td>feb</td>\n",
       "    </tr>\n",
       "    <tr>\n",
       "      <th>2</th>\n",
       "      <td>236</td>\n",
       "      <td>mar</td>\n",
       "    </tr>\n",
       "    <tr>\n",
       "      <th>3</th>\n",
       "      <td>356</td>\n",
       "      <td>apr</td>\n",
       "    </tr>\n",
       "    <tr>\n",
       "      <th>4</th>\n",
       "      <td>299</td>\n",
       "      <td>may</td>\n",
       "    </tr>\n",
       "  </tbody>\n",
       "</table>\n",
       "</div>"
      ],
      "text/plain": [
       "  predict month\n",
       "0     415   jan\n",
       "1    1162   feb\n",
       "2     236   mar\n",
       "3     356   apr\n",
       "4     299   may"
      ]
     },
     "execution_count": 726,
     "metadata": {},
     "output_type": "execute_result"
    }
   ],
   "source": [
    "코로나_긍정.head()"
   ]
  },
  {
   "cell_type": "code",
   "execution_count": 727,
   "metadata": {},
   "outputs": [
    {
     "data": {
      "text/html": [
       "<div>\n",
       "<style scoped>\n",
       "    .dataframe tbody tr th:only-of-type {\n",
       "        vertical-align: middle;\n",
       "    }\n",
       "\n",
       "    .dataframe tbody tr th {\n",
       "        vertical-align: top;\n",
       "    }\n",
       "\n",
       "    .dataframe thead th {\n",
       "        text-align: right;\n",
       "    }\n",
       "</style>\n",
       "<table border=\"1\" class=\"dataframe\">\n",
       "  <thead>\n",
       "    <tr style=\"text-align: right;\">\n",
       "      <th></th>\n",
       "      <th>predict</th>\n",
       "      <th>month</th>\n",
       "    </tr>\n",
       "  </thead>\n",
       "  <tbody>\n",
       "    <tr>\n",
       "      <th>0</th>\n",
       "      <td>402</td>\n",
       "      <td>jan</td>\n",
       "    </tr>\n",
       "    <tr>\n",
       "      <th>1</th>\n",
       "      <td>1941</td>\n",
       "      <td>feb</td>\n",
       "    </tr>\n",
       "    <tr>\n",
       "      <th>2</th>\n",
       "      <td>197</td>\n",
       "      <td>mar</td>\n",
       "    </tr>\n",
       "    <tr>\n",
       "      <th>3</th>\n",
       "      <td>284</td>\n",
       "      <td>apr</td>\n",
       "    </tr>\n",
       "    <tr>\n",
       "      <th>4</th>\n",
       "      <td>276</td>\n",
       "      <td>may</td>\n",
       "    </tr>\n",
       "  </tbody>\n",
       "</table>\n",
       "</div>"
      ],
      "text/plain": [
       "  predict month\n",
       "0     402   jan\n",
       "1    1941   feb\n",
       "2     197   mar\n",
       "3     284   apr\n",
       "4     276   may"
      ]
     },
     "execution_count": 727,
     "metadata": {},
     "output_type": "execute_result"
    }
   ],
   "source": [
    "코로나_부정.head()"
   ]
  },
  {
   "cell_type": "code",
   "execution_count": 970,
   "metadata": {},
   "outputs": [
    {
     "data": {
      "text/plain": [
       "<matplotlib.legend.Legend at 0x7f676ee035b0>"
      ]
     },
     "execution_count": 970,
     "metadata": {},
     "output_type": "execute_result"
    },
    {
     "data": {
      "image/png": "[encoded data removed]",
      "text/plain": [
       "<Figure size 432x288 with 1 Axes>"
      ]
     },
     "metadata": {
      "needs_background": "light"
     },
     "output_type": "display_data"
    }
   ],
   "source": [
    "import seaborn as sns\n",
    "import matplotlib.patches as mpatches\n",
    "\n",
    "plt.title('Corona')\n",
    "sns.pointplot(x='month', y='predict', data = 코로나_긍정, color = 'skyblue', label = 'positive')\n",
    "positive = mpatches.Patch(color='skyblue', label='positive')\n",
    "plt.legend(handles = [positive])\n",
    "\n",
    "sns.pointplot(x='month', y='predict', data = 코로나_부정, color = 'orange', label = 'negative')\n",
    "negative = mpatches.Patch(color='orange', label='negative')\n",
    "plt.legend(handles = [positive, negative])\n"
   ]
  },
  {
   "cell_type": "markdown",
   "metadata": {},
   "source": [
    "## 정부 키워드 데이터 결과"
   ]
  },
  {
   "cell_type": "code",
   "execution_count": 763,
   "metadata": {},
   "outputs": [
    {
     "data": {
      "text/html": [
       "<div>\n",
       "<style scoped>\n",
       "    .dataframe tbody tr th:only-of-type {\n",
       "        vertical-align: middle;\n",
       "    }\n",
       "\n",
       "    .dataframe tbody tr th {\n",
       "        vertical-align: top;\n",
       "    }\n",
       "\n",
       "    .dataframe thead th {\n",
       "        text-align: right;\n",
       "    }\n",
       "</style>\n",
       "<table border=\"1\" class=\"dataframe\">\n",
       "  <thead>\n",
       "    <tr style=\"text-align: right;\">\n",
       "      <th></th>\n",
       "      <th>정부_1</th>\n",
       "      <th>예측값</th>\n",
       "    </tr>\n",
       "  </thead>\n",
       "  <tbody>\n",
       "    <tr>\n",
       "      <th>0</th>\n",
       "      <td>한동안 미세먼지는 없겠구만</td>\n",
       "      <td>0</td>\n",
       "    </tr>\n",
       "    <tr>\n",
       "      <th>1</th>\n",
       "      <td>차 전세기에 못탄 한국인 명 있었다는데  그심정은 말로 표현 못할거같아요 한국으로 ...</td>\n",
       "      <td>1</td>\n",
       "    </tr>\n",
       "    <tr>\n",
       "      <th>2</th>\n",
       "      <td>도대체 이분들 데리러 가고 오고가 왜 속보며 왜이리 호들갑이냐 우한서 들어온 천명 ...</td>\n",
       "      <td>0</td>\n",
       "    </tr>\n",
       "    <tr>\n",
       "      <th>3</th>\n",
       "      <td>만 달라짜리 비행편이다 자국민 데려오겠다는데 뇌물을 그렇게 갖다바쳐야 겨우 허가해주...</td>\n",
       "      <td>1</td>\n",
       "    </tr>\n",
       "    <tr>\n",
       "      <th>4</th>\n",
       "      <td>집으로 돈 버는시대는 끝네야함제주도 집값은 아주비정상</td>\n",
       "      <td>1</td>\n",
       "    </tr>\n",
       "    <tr>\n",
       "      <th>...</th>\n",
       "      <td>...</td>\n",
       "      <td>...</td>\n",
       "    </tr>\n",
       "    <tr>\n",
       "      <th>830</th>\n",
       "      <td>이왕 오신거 조심히 제발 조심히 있다 가세요격리 잘 해주시고 단독행동 하시는 불상사...</td>\n",
       "      <td>0</td>\n",
       "    </tr>\n",
       "    <tr>\n",
       "      <th>831</th>\n",
       "      <td>비용을 쓰더라도 급하면  하는거고 평소에까지 적용하려면 사람을 더구해야지</td>\n",
       "      <td>1</td>\n",
       "    </tr>\n",
       "    <tr>\n",
       "      <th>832</th>\n",
       "      <td>마스크 가격 규제해라ㅡㅡ 배이상 가격오른게 말이되냐 중국에 퍼주지말고 한국에 쫌 주...</td>\n",
       "      <td>1</td>\n",
       "    </tr>\n",
       "    <tr>\n",
       "      <th>833</th>\n",
       "      <td>당신들만 마음이 놓이는 겁니다</td>\n",
       "      <td>0</td>\n",
       "    </tr>\n",
       "    <tr>\n",
       "      <th>834</th>\n",
       "      <td>마스크 만개에 억까지 주고 전세기 띄우는 것도 눈치봐야 되냐 이 정부 제정신인가 진짜로</td>\n",
       "      <td>0</td>\n",
       "    </tr>\n",
       "  </tbody>\n",
       "</table>\n",
       "<p>834 rows × 2 columns</p>\n",
       "</div>"
      ],
      "text/plain": [
       "                                                  정부_1 예측값\n",
       "0                                       한동안 미세먼지는 없겠구만   0\n",
       "1    차 전세기에 못탄 한국인 명 있었다는데  그심정은 말로 표현 못할거같아요 한국으로 ...   1\n",
       "2    도대체 이분들 데리러 가고 오고가 왜 속보며 왜이리 호들갑이냐 우한서 들어온 천명 ...   0\n",
       "3    만 달라짜리 비행편이다 자국민 데려오겠다는데 뇌물을 그렇게 갖다바쳐야 겨우 허가해주...   1\n",
       "4                        집으로 돈 버는시대는 끝네야함제주도 집값은 아주비정상   1\n",
       "..                                                 ...  ..\n",
       "830  이왕 오신거 조심히 제발 조심히 있다 가세요격리 잘 해주시고 단독행동 하시는 불상사...   0\n",
       "831           비용을 쓰더라도 급하면  하는거고 평소에까지 적용하려면 사람을 더구해야지   1\n",
       "832  마스크 가격 규제해라ㅡㅡ 배이상 가격오른게 말이되냐 중국에 퍼주지말고 한국에 쫌 주...   1\n",
       "833                                   당신들만 마음이 놓이는 겁니다   0\n",
       "834   마스크 만개에 억까지 주고 전세기 띄우는 것도 눈치봐야 되냐 이 정부 제정신인가 진짜로   0\n",
       "\n",
       "[834 rows x 2 columns]"
      ]
     },
     "execution_count": 763,
     "metadata": {},
     "output_type": "execute_result"
    }
   ],
   "source": [
    "정부_1월"
   ]
  },
  {
   "cell_type": "code",
   "execution_count": 781,
   "metadata": {},
   "outputs": [
    {
     "data": {
      "text/html": [
       "<div>\n",
       "<style scoped>\n",
       "    .dataframe tbody tr th:only-of-type {\n",
       "        vertical-align: middle;\n",
       "    }\n",
       "\n",
       "    .dataframe tbody tr th {\n",
       "        vertical-align: top;\n",
       "    }\n",
       "\n",
       "    .dataframe thead th {\n",
       "        text-align: right;\n",
       "    }\n",
       "</style>\n",
       "<table border=\"1\" class=\"dataframe\">\n",
       "  <thead>\n",
       "    <tr style=\"text-align: right;\">\n",
       "      <th></th>\n",
       "      <th>정부_2</th>\n",
       "      <th>예측값</th>\n",
       "    </tr>\n",
       "  </thead>\n",
       "  <tbody>\n",
       "    <tr>\n",
       "      <th>0</th>\n",
       "      <td>도와주고 지켜줘도 스스로 도모할수없는 아프간정부를 더이상 무의미한 희생으로만 감당하...</td>\n",
       "      <td>0</td>\n",
       "    </tr>\n",
       "    <tr>\n",
       "      <th>1</th>\n",
       "      <td>하기만 해봐라</td>\n",
       "      <td>0</td>\n",
       "    </tr>\n",
       "    <tr>\n",
       "      <th>2</th>\n",
       "      <td>현대판 매국노 능지처참 해라</td>\n",
       "      <td>0</td>\n",
       "    </tr>\n",
       "    <tr>\n",
       "      <th>4</th>\n",
       "      <td>대한민국 반으로 가른 중국이다 북한이라는 독재국가가 있게 해준 중국이다 도움은 일절...</td>\n",
       "      <td>0</td>\n",
       "    </tr>\n",
       "    <tr>\n",
       "      <th>5</th>\n",
       "      <td>중국인 막나 안막나 경제망하는건똑같은데ㅉㅉ</td>\n",
       "      <td>0</td>\n",
       "    </tr>\n",
       "    <tr>\n",
       "      <th>...</th>\n",
       "      <td>...</td>\n",
       "      <td>...</td>\n",
       "    </tr>\n",
       "    <tr>\n",
       "      <th>1320</th>\n",
       "      <td>지금 마스크도 못구하고 있는데 다음주 개학이라니 어떻게 아이를 내보낼 수 있다는 말...</td>\n",
       "      <td>0</td>\n",
       "    </tr>\n",
       "    <tr>\n",
       "      <th>1321</th>\n",
       "      <td>언젠가 보수당이 집권할텐데 그 때는 중국에게 어떻게 하는지 봅시다</td>\n",
       "      <td>1</td>\n",
       "    </tr>\n",
       "    <tr>\n",
       "      <th>1322</th>\n",
       "      <td>초기 대응 실패 중국 눈치보니라 북한도 초기에 금지한걸 계속 미룸 문재앙 가짜뉴스 ...</td>\n",
       "      <td>1</td>\n",
       "    </tr>\n",
       "    <tr>\n",
       "      <th>1323</th>\n",
       "      <td>신천지  너거들은 천벌을받을거다지옥에나가라</td>\n",
       "      <td>0</td>\n",
       "    </tr>\n",
       "    <tr>\n",
       "      <th>1324</th>\n",
       "      <td>이런 상황에서도 헌금때문에 예배를 멈추지 않는 곳이 있다면 목사가 신도를 어떻게 생...</td>\n",
       "      <td>1</td>\n",
       "    </tr>\n",
       "  </tbody>\n",
       "</table>\n",
       "<p>1322 rows × 2 columns</p>\n",
       "</div>"
      ],
      "text/plain": [
       "                                                   정부_2 예측값\n",
       "0     도와주고 지켜줘도 스스로 도모할수없는 아프간정부를 더이상 무의미한 희생으로만 감당하...   0\n",
       "1                                               하기만 해봐라   0\n",
       "2                                       현대판 매국노 능지처참 해라   0\n",
       "4     대한민국 반으로 가른 중국이다 북한이라는 독재국가가 있게 해준 중국이다 도움은 일절...   0\n",
       "5                               중국인 막나 안막나 경제망하는건똑같은데ㅉㅉ   0\n",
       "...                                                 ...  ..\n",
       "1320  지금 마스크도 못구하고 있는데 다음주 개학이라니 어떻게 아이를 내보낼 수 있다는 말...   0\n",
       "1321               언젠가 보수당이 집권할텐데 그 때는 중국에게 어떻게 하는지 봅시다   1\n",
       "1322  초기 대응 실패 중국 눈치보니라 북한도 초기에 금지한걸 계속 미룸 문재앙 가짜뉴스 ...   1\n",
       "1323                            신천지  너거들은 천벌을받을거다지옥에나가라   0\n",
       "1324  이런 상황에서도 헌금때문에 예배를 멈추지 않는 곳이 있다면 목사가 신도를 어떻게 생...   1\n",
       "\n",
       "[1322 rows x 2 columns]"
      ]
     },
     "execution_count": 781,
     "metadata": {},
     "output_type": "execute_result"
    }
   ],
   "source": [
    "정부_2월"
   ]
  },
  {
   "cell_type": "code",
   "execution_count": 796,
   "metadata": {},
   "outputs": [
    {
     "data": {
      "text/html": [
       "<div>\n",
       "<style scoped>\n",
       "    .dataframe tbody tr th:only-of-type {\n",
       "        vertical-align: middle;\n",
       "    }\n",
       "\n",
       "    .dataframe tbody tr th {\n",
       "        vertical-align: top;\n",
       "    }\n",
       "\n",
       "    .dataframe thead th {\n",
       "        text-align: right;\n",
       "    }\n",
       "</style>\n",
       "<table border=\"1\" class=\"dataframe\">\n",
       "  <thead>\n",
       "    <tr style=\"text-align: right;\">\n",
       "      <th></th>\n",
       "      <th>정부_3</th>\n",
       "      <th>예측값</th>\n",
       "    </tr>\n",
       "  </thead>\n",
       "  <tbody>\n",
       "    <tr>\n",
       "      <th>0</th>\n",
       "      <td>천명이 안정기정말큰일이군요</td>\n",
       "      <td>0</td>\n",
       "    </tr>\n",
       "    <tr>\n",
       "      <th>1</th>\n",
       "      <td>힘 내자 이제 불안해하지 말고 이겨내야한다</td>\n",
       "      <td>0</td>\n",
       "    </tr>\n",
       "    <tr>\n",
       "      <th>2</th>\n",
       "      <td>그럼 한국들어와서 투표하든가 이시국에 어떻게 투표소 설치하라고 이런걸 공권력이라 우기냐</td>\n",
       "      <td>1</td>\n",
       "    </tr>\n",
       "    <tr>\n",
       "      <th>3</th>\n",
       "      <td>인천 시장님 알흠답습니다이번에 다시 재번복 했는데 상위프로만 인천시에서 주고 일반서...</td>\n",
       "      <td>0</td>\n",
       "    </tr>\n",
       "    <tr>\n",
       "      <th>4</th>\n",
       "      <td>개학 연기하는동안 아무런 대책도 하지 않은건지 애들만 덩그러니 집에서 온라인수업을 ...</td>\n",
       "      <td>1</td>\n",
       "    </tr>\n",
       "    <tr>\n",
       "      <th>...</th>\n",
       "      <td>...</td>\n",
       "      <td>...</td>\n",
       "    </tr>\n",
       "    <tr>\n",
       "      <th>706</th>\n",
       "      <td>자국민 출국금지도시켜줘라 한김에</td>\n",
       "      <td>0</td>\n",
       "    </tr>\n",
       "    <tr>\n",
       "      <th>707</th>\n",
       "      <td>싸가지 없는 벳남태극기로 코로나바이러스 그려가며 빈정대던 할 나쁜 넘들 일체 지원마...</td>\n",
       "      <td>1</td>\n",
       "    </tr>\n",
       "    <tr>\n",
       "      <th>708</th>\n",
       "      <td>차원이 다른 대통령 후보 안대표님 응원합니다</td>\n",
       "      <td>1</td>\n",
       "    </tr>\n",
       "    <tr>\n",
       "      <th>709</th>\n",
       "      <td>초등학년이 어떻게 온라인 수업을 하죠</td>\n",
       "      <td>0</td>\n",
       "    </tr>\n",
       "    <tr>\n",
       "      <th>710</th>\n",
       "      <td>유승민의 광폭행보 중도보수와 젊은층 표심 향방에 도움 된다</td>\n",
       "      <td>1</td>\n",
       "    </tr>\n",
       "  </tbody>\n",
       "</table>\n",
       "<p>710 rows × 2 columns</p>\n",
       "</div>"
      ],
      "text/plain": [
       "                                                  정부_3 예측값\n",
       "0                                       천명이 안정기정말큰일이군요   0\n",
       "1                              힘 내자 이제 불안해하지 말고 이겨내야한다   0\n",
       "2     그럼 한국들어와서 투표하든가 이시국에 어떻게 투표소 설치하라고 이런걸 공권력이라 우기냐   1\n",
       "3    인천 시장님 알흠답습니다이번에 다시 재번복 했는데 상위프로만 인천시에서 주고 일반서...   0\n",
       "4    개학 연기하는동안 아무런 대책도 하지 않은건지 애들만 덩그러니 집에서 온라인수업을 ...   1\n",
       "..                                                 ...  ..\n",
       "706                                  자국민 출국금지도시켜줘라 한김에   0\n",
       "707  싸가지 없는 벳남태극기로 코로나바이러스 그려가며 빈정대던 할 나쁜 넘들 일체 지원마...   1\n",
       "708                           차원이 다른 대통령 후보 안대표님 응원합니다   1\n",
       "709                               초등학년이 어떻게 온라인 수업을 하죠   0\n",
       "710                   유승민의 광폭행보 중도보수와 젊은층 표심 향방에 도움 된다   1\n",
       "\n",
       "[710 rows x 2 columns]"
      ]
     },
     "execution_count": 796,
     "metadata": {},
     "output_type": "execute_result"
    }
   ],
   "source": [
    "정부_3월"
   ]
  },
  {
   "cell_type": "code",
   "execution_count": 811,
   "metadata": {},
   "outputs": [
    {
     "data": {
      "text/html": [
       "<div>\n",
       "<style scoped>\n",
       "    .dataframe tbody tr th:only-of-type {\n",
       "        vertical-align: middle;\n",
       "    }\n",
       "\n",
       "    .dataframe tbody tr th {\n",
       "        vertical-align: top;\n",
       "    }\n",
       "\n",
       "    .dataframe thead th {\n",
       "        text-align: right;\n",
       "    }\n",
       "</style>\n",
       "<table border=\"1\" class=\"dataframe\">\n",
       "  <thead>\n",
       "    <tr style=\"text-align: right;\">\n",
       "      <th></th>\n",
       "      <th>정부_4</th>\n",
       "      <th>예측값</th>\n",
       "    </tr>\n",
       "  </thead>\n",
       "  <tbody>\n",
       "    <tr>\n",
       "      <th>0</th>\n",
       "      <td>역시 독일은 다르네 그래야 이런 일 또 생기면 잘 할테니까ㅋ</td>\n",
       "      <td>0</td>\n",
       "    </tr>\n",
       "    <tr>\n",
       "      <th>2</th>\n",
       "      <td>퇴직금없애라  대보험에 주휴수당에 일한만큼 가져가야지 복지를 국가서 해야지 왜 사업...</td>\n",
       "      <td>0</td>\n",
       "    </tr>\n",
       "    <tr>\n",
       "      <th>3</th>\n",
       "      <td>야 한국 미국 대통령 마누라는 부인이고 프랑스 우크라이나 터어키 대통령 마누라는 영...</td>\n",
       "      <td>0</td>\n",
       "    </tr>\n",
       "    <tr>\n",
       "      <th>4</th>\n",
       "      <td>반복되는 안전불감 참사의 원인은 국회에 있다 이번에 석 여당이 징벌적 손해배상 및 ...</td>\n",
       "      <td>1</td>\n",
       "    </tr>\n",
       "    <tr>\n",
       "      <th>5</th>\n",
       "      <td>제주 여행간사람 조사해서 지원금 대상 제외 꼭 부탁드립니다그 지원금 노력하신 의료진...</td>\n",
       "      <td>0</td>\n",
       "    </tr>\n",
       "    <tr>\n",
       "      <th>...</th>\n",
       "      <td>...</td>\n",
       "      <td>...</td>\n",
       "    </tr>\n",
       "    <tr>\n",
       "      <th>1128</th>\n",
       "      <td>아베 마스크좀 어찌 해주세요 심각한 상황 인거 같은데 저거볼때마다 웃으면 안되는데 ...</td>\n",
       "      <td>0</td>\n",
       "    </tr>\n",
       "    <tr>\n",
       "      <th>1129</th>\n",
       "      <td>세월호의 좋은 예가 있으니 문재인의 다음 수순은 정해져 있다고 본다 모든 사고의 책...</td>\n",
       "      <td>1</td>\n",
       "    </tr>\n",
       "    <tr>\n",
       "      <th>1130</th>\n",
       "      <td>세월호 마냥 화재 참사로 돌아가신 분들에게 보상금 억씩 지급하고 문재인은 화재 시간...</td>\n",
       "      <td>0</td>\n",
       "    </tr>\n",
       "    <tr>\n",
       "      <th>1131</th>\n",
       "      <td>우리나라도 이거 빨리 고민 좀 하자 예전에는 하려고 했어도 사회적 비용이 만만치 않...</td>\n",
       "      <td>0</td>\n",
       "    </tr>\n",
       "    <tr>\n",
       "      <th>1132</th>\n",
       "      <td>간만에 일좀하네</td>\n",
       "      <td>1</td>\n",
       "    </tr>\n",
       "  </tbody>\n",
       "</table>\n",
       "<p>1132 rows × 2 columns</p>\n",
       "</div>"
      ],
      "text/plain": [
       "                                                   정부_4 예측값\n",
       "0                     역시 독일은 다르네 그래야 이런 일 또 생기면 잘 할테니까ㅋ   0\n",
       "2     퇴직금없애라  대보험에 주휴수당에 일한만큼 가져가야지 복지를 국가서 해야지 왜 사업...   0\n",
       "3     야 한국 미국 대통령 마누라는 부인이고 프랑스 우크라이나 터어키 대통령 마누라는 영...   0\n",
       "4     반복되는 안전불감 참사의 원인은 국회에 있다 이번에 석 여당이 징벌적 손해배상 및 ...   1\n",
       "5     제주 여행간사람 조사해서 지원금 대상 제외 꼭 부탁드립니다그 지원금 노력하신 의료진...   0\n",
       "...                                                 ...  ..\n",
       "1128  아베 마스크좀 어찌 해주세요 심각한 상황 인거 같은데 저거볼때마다 웃으면 안되는데 ...   0\n",
       "1129  세월호의 좋은 예가 있으니 문재인의 다음 수순은 정해져 있다고 본다 모든 사고의 책...   1\n",
       "1130  세월호 마냥 화재 참사로 돌아가신 분들에게 보상금 억씩 지급하고 문재인은 화재 시간...   0\n",
       "1131  우리나라도 이거 빨리 고민 좀 하자 예전에는 하려고 했어도 사회적 비용이 만만치 않...   0\n",
       "1132                                           간만에 일좀하네   1\n",
       "\n",
       "[1132 rows x 2 columns]"
      ]
     },
     "execution_count": 811,
     "metadata": {},
     "output_type": "execute_result"
    }
   ],
   "source": [
    "정부_4월"
   ]
  },
  {
   "cell_type": "code",
   "execution_count": 860,
   "metadata": {},
   "outputs": [
    {
     "data": {
      "text/html": [
       "<div>\n",
       "<style scoped>\n",
       "    .dataframe tbody tr th:only-of-type {\n",
       "        vertical-align: middle;\n",
       "    }\n",
       "\n",
       "    .dataframe tbody tr th {\n",
       "        vertical-align: top;\n",
       "    }\n",
       "\n",
       "    .dataframe thead th {\n",
       "        text-align: right;\n",
       "    }\n",
       "</style>\n",
       "<table border=\"1\" class=\"dataframe\">\n",
       "  <thead>\n",
       "    <tr style=\"text-align: right;\">\n",
       "      <th></th>\n",
       "      <th>정부_5</th>\n",
       "      <th>예측값</th>\n",
       "    </tr>\n",
       "  </thead>\n",
       "  <tbody>\n",
       "    <tr>\n",
       "      <th>0</th>\n",
       "      <td>문재인  홍콩인들 외면하겠다 난 내로남불 인권대통령이니깐 나를 위해 희생한게 아니면...</td>\n",
       "      <td>0</td>\n",
       "    </tr>\n",
       "    <tr>\n",
       "      <th>1</th>\n",
       "      <td>지나가는 길에 개가 짖어서 뭔가하고 봄</td>\n",
       "      <td>0</td>\n",
       "    </tr>\n",
       "    <tr>\n",
       "      <th>2</th>\n",
       "      <td>부부합쳐 연천정도의 수입으로 저축해서 집을 차례나 사고 딸을 호화미국유학 시킬수있다...</td>\n",
       "      <td>0</td>\n",
       "    </tr>\n",
       "    <tr>\n",
       "      <th>3</th>\n",
       "      <td>홍콩인들이 떠나면 시진핑 충견들이 몰려가서 차지하겠네 처음에는 일국양제로 사기치고 ...</td>\n",
       "      <td>0</td>\n",
       "    </tr>\n",
       "    <tr>\n",
       "      <th>5</th>\n",
       "      <td>며칠 간 확진자 명일 때 그 기쁨에 취해 거리두기 단계 하향과 그에 따라 안일하게 ...</td>\n",
       "      <td>1</td>\n",
       "    </tr>\n",
       "    <tr>\n",
       "      <th>...</th>\n",
       "      <td>...</td>\n",
       "      <td>...</td>\n",
       "    </tr>\n",
       "    <tr>\n",
       "      <th>976</th>\n",
       "      <td>이게 뭔 이완용 같은 소리임 그렇게 따지면 정유라가 받은 말 세 마리도 장학금인데</td>\n",
       "      <td>1</td>\n",
       "    </tr>\n",
       "    <tr>\n",
       "      <th>977</th>\n",
       "      <td>저런 악습은 그냥은 안없어지지 정부에서 없엔다고 안없어져 사회적 변혁이 있어야지 프...</td>\n",
       "      <td>1</td>\n",
       "    </tr>\n",
       "    <tr>\n",
       "      <th>978</th>\n",
       "      <td>ㅋㅋㅋㅋㅋㅋㅋㅋ다들등원하던데 무슨 휴원 ㅋㅋ</td>\n",
       "      <td>1</td>\n",
       "    </tr>\n",
       "    <tr>\n",
       "      <th>979</th>\n",
       "      <td>살아있는 윤미향한테는 한마디 못하면서 말 못하는 죽은자 시체로만 쇼하는 놈</td>\n",
       "      <td>1</td>\n",
       "    </tr>\n",
       "    <tr>\n",
       "      <th>980</th>\n",
       "      <td>이번에 확산되면 가구당 만원씩 이아니면 인당 만원</td>\n",
       "      <td>0</td>\n",
       "    </tr>\n",
       "  </tbody>\n",
       "</table>\n",
       "<p>980 rows × 2 columns</p>\n",
       "</div>"
      ],
      "text/plain": [
       "                                                  정부_5 예측값\n",
       "0    문재인  홍콩인들 외면하겠다 난 내로남불 인권대통령이니깐 나를 위해 희생한게 아니면...   0\n",
       "1                                지나가는 길에 개가 짖어서 뭔가하고 봄   0\n",
       "2    부부합쳐 연천정도의 수입으로 저축해서 집을 차례나 사고 딸을 호화미국유학 시킬수있다...   0\n",
       "3    홍콩인들이 떠나면 시진핑 충견들이 몰려가서 차지하겠네 처음에는 일국양제로 사기치고 ...   0\n",
       "5    며칠 간 확진자 명일 때 그 기쁨에 취해 거리두기 단계 하향과 그에 따라 안일하게 ...   1\n",
       "..                                                 ...  ..\n",
       "976      이게 뭔 이완용 같은 소리임 그렇게 따지면 정유라가 받은 말 세 마리도 장학금인데   1\n",
       "977  저런 악습은 그냥은 안없어지지 정부에서 없엔다고 안없어져 사회적 변혁이 있어야지 프...   1\n",
       "978                           ㅋㅋㅋㅋㅋㅋㅋㅋ다들등원하던데 무슨 휴원 ㅋㅋ   1\n",
       "979          살아있는 윤미향한테는 한마디 못하면서 말 못하는 죽은자 시체로만 쇼하는 놈   1\n",
       "980                       이번에 확산되면 가구당 만원씩 이아니면 인당 만원    0\n",
       "\n",
       "[980 rows x 2 columns]"
      ]
     },
     "execution_count": 860,
     "metadata": {},
     "output_type": "execute_result"
    }
   ],
   "source": [
    "정부_5월"
   ]
  },
  {
   "cell_type": "code",
   "execution_count": 869,
   "metadata": {},
   "outputs": [],
   "source": [
    "정부_긍정 = pd.DataFrame(index = range(0, 5), \n",
    "                      columns = ['predict',\n",
    "                                 'month'])\n",
    "                        \n",
    "정부_부정 = pd.DataFrame(index = range(0, 5),\n",
    "                      columns = ['predict',\n",
    "                                 'month']) "
   ]
  },
  {
   "cell_type": "code",
   "execution_count": 870,
   "metadata": {},
   "outputs": [],
   "source": [
    "정부_부정['predict'].iloc[0:] = (정부_1월['예측값'] == '1').sum(axis=0)\n",
    "정부_부정['predict'].iloc[1:] = (정부_2월['예측값'] == '1').sum(axis=0)\n",
    "정부_부정['predict'].iloc[2:] = (정부_3월['예측값'] == '1').sum(axis=0)\n",
    "정부_부정['predict'].iloc[3:] = (정부_4월['예측값'] == '1').sum(axis=0)\n",
    "정부_부정['predict'].iloc[4:] = (정부_5월['예측값'] == '1').sum(axis=0)\n",
    "\n",
    "정부_긍정['predict'].iloc[0:] = (정부_1월['예측값'] == '0').sum(axis=0)\n",
    "정부_긍정['predict'].iloc[1:] = (정부_2월['예측값'] == '0').sum(axis=0)\n",
    "정부_긍정['predict'].iloc[2:] = (정부_3월['예측값'] == '0').sum(axis=0)\n",
    "정부_긍정['predict'].iloc[3:] = (정부_4월['예측값'] == '0').sum(axis=0)\n",
    "정부_긍정['predict'].iloc[4:] = (정부_5월['예측값'] == '0').sum(axis=0)"
   ]
  },
  {
   "cell_type": "code",
   "execution_count": 871,
   "metadata": {},
   "outputs": [],
   "source": [
    "month = ['jan','feb','mar','apr','may']\n",
    "\n",
    "정부_긍정['month'].iloc[:] = month\n",
    "정부_부정['month'].iloc[:] = month"
   ]
  },
  {
   "cell_type": "code",
   "execution_count": 872,
   "metadata": {},
   "outputs": [
    {
     "data": {
      "text/html": [
       "<div>\n",
       "<style scoped>\n",
       "    .dataframe tbody tr th:only-of-type {\n",
       "        vertical-align: middle;\n",
       "    }\n",
       "\n",
       "    .dataframe tbody tr th {\n",
       "        vertical-align: top;\n",
       "    }\n",
       "\n",
       "    .dataframe thead th {\n",
       "        text-align: right;\n",
       "    }\n",
       "</style>\n",
       "<table border=\"1\" class=\"dataframe\">\n",
       "  <thead>\n",
       "    <tr style=\"text-align: right;\">\n",
       "      <th></th>\n",
       "      <th>predict</th>\n",
       "      <th>month</th>\n",
       "    </tr>\n",
       "  </thead>\n",
       "  <tbody>\n",
       "    <tr>\n",
       "      <th>0</th>\n",
       "      <td>447</td>\n",
       "      <td>jan</td>\n",
       "    </tr>\n",
       "    <tr>\n",
       "      <th>1</th>\n",
       "      <td>681</td>\n",
       "      <td>feb</td>\n",
       "    </tr>\n",
       "    <tr>\n",
       "      <th>2</th>\n",
       "      <td>363</td>\n",
       "      <td>mar</td>\n",
       "    </tr>\n",
       "    <tr>\n",
       "      <th>3</th>\n",
       "      <td>593</td>\n",
       "      <td>apr</td>\n",
       "    </tr>\n",
       "    <tr>\n",
       "      <th>4</th>\n",
       "      <td>521</td>\n",
       "      <td>may</td>\n",
       "    </tr>\n",
       "  </tbody>\n",
       "</table>\n",
       "</div>"
      ],
      "text/plain": [
       "  predict month\n",
       "0     447   jan\n",
       "1     681   feb\n",
       "2     363   mar\n",
       "3     593   apr\n",
       "4     521   may"
      ]
     },
     "execution_count": 872,
     "metadata": {},
     "output_type": "execute_result"
    }
   ],
   "source": [
    "정부_긍정.head()"
   ]
  },
  {
   "cell_type": "code",
   "execution_count": 873,
   "metadata": {},
   "outputs": [
    {
     "data": {
      "text/html": [
       "<div>\n",
       "<style scoped>\n",
       "    .dataframe tbody tr th:only-of-type {\n",
       "        vertical-align: middle;\n",
       "    }\n",
       "\n",
       "    .dataframe tbody tr th {\n",
       "        vertical-align: top;\n",
       "    }\n",
       "\n",
       "    .dataframe thead th {\n",
       "        text-align: right;\n",
       "    }\n",
       "</style>\n",
       "<table border=\"1\" class=\"dataframe\">\n",
       "  <thead>\n",
       "    <tr style=\"text-align: right;\">\n",
       "      <th></th>\n",
       "      <th>predict</th>\n",
       "      <th>month</th>\n",
       "    </tr>\n",
       "  </thead>\n",
       "  <tbody>\n",
       "    <tr>\n",
       "      <th>0</th>\n",
       "      <td>387</td>\n",
       "      <td>jan</td>\n",
       "    </tr>\n",
       "    <tr>\n",
       "      <th>1</th>\n",
       "      <td>641</td>\n",
       "      <td>feb</td>\n",
       "    </tr>\n",
       "    <tr>\n",
       "      <th>2</th>\n",
       "      <td>347</td>\n",
       "      <td>mar</td>\n",
       "    </tr>\n",
       "    <tr>\n",
       "      <th>3</th>\n",
       "      <td>539</td>\n",
       "      <td>apr</td>\n",
       "    </tr>\n",
       "    <tr>\n",
       "      <th>4</th>\n",
       "      <td>459</td>\n",
       "      <td>may</td>\n",
       "    </tr>\n",
       "  </tbody>\n",
       "</table>\n",
       "</div>"
      ],
      "text/plain": [
       "  predict month\n",
       "0     387   jan\n",
       "1     641   feb\n",
       "2     347   mar\n",
       "3     539   apr\n",
       "4     459   may"
      ]
     },
     "execution_count": 873,
     "metadata": {},
     "output_type": "execute_result"
    }
   ],
   "source": [
    "정부_부정.head()"
   ]
  },
  {
   "cell_type": "code",
   "execution_count": 879,
   "metadata": {},
   "outputs": [
    {
     "data": {
      "text/plain": [
       "(300.0, 750.0)"
      ]
     },
     "execution_count": 879,
     "metadata": {},
     "output_type": "execute_result"
    },
    {
     "data": {
      "image/png": "[encoded data removed]",
      "text/plain": [
       "<Figure size 432x288 with 1 Axes>"
      ]
     },
     "metadata": {
      "needs_background": "light"
     },
     "output_type": "display_data"
    }
   ],
   "source": [
    "import seaborn as sns\n",
    "import matplotlib.patches as mpatches\n",
    "\n",
    "plt.title('Government')\n",
    "sns.pointplot(x='month', y='predict', data = 정부_긍정, color = 'skyblue', label = 'positive')\n",
    "positive = mpatches.Patch(color='skyblue', label='positive')\n",
    "plt.legend(handles = [positive])\n",
    "\n",
    "sns.pointplot(x='month', y='predict', data = 정부_부정, color = 'orange', label = 'negative')\n",
    "negative = mpatches.Patch(color='orange', label='negative')\n",
    "plt.legend(handles = [positive, negative])\n",
    "\n",
    "plt.ylim(300, 750)"
   ]
  }
 ],
 "metadata": {
  "kernelspec": {
   "display_name": "Python 3",
   "language": "python",
   "name": "python3"
  },
  "language_info": {
   "codemirror_mode": {
    "name": "ipython",
    "version": 3
   },
   "file_extension": ".py",
   "mimetype": "text/x-python",
   "name": "python",
   "nbconvert_exporter": "python",
   "pygments_lexer": "ipython3",
   "version": "3.8.2"
  }
 },
 "nbformat": 4,
 "nbformat_minor": 4
}
